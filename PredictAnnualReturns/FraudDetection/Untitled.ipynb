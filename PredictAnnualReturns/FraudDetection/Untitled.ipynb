{
 "cells": [
  {
   "cell_type": "code",
   "execution_count": 27,
   "metadata": {
    "collapsed": true
   },
   "outputs": [],
   "source": [
    "import pandas as pd\n",
    "import numpy as np\n",
    "from sklearn import svm\n",
    "from sklearn.preprocessing import LabelEncoder"
   ]
  },
  {
   "cell_type": "code",
   "execution_count": 28,
   "metadata": {
    "collapsed": true
   },
   "outputs": [],
   "source": [
    "import matplotlib.pyplot as plt"
   ]
  },
  {
   "cell_type": "code",
   "execution_count": 29,
   "metadata": {
    "collapsed": true
   },
   "outputs": [],
   "source": [
    "%matplotlib inline"
   ]
  },
  {
   "cell_type": "code",
   "execution_count": 30,
   "metadata": {
    "collapsed": true
   },
   "outputs": [],
   "source": [
    "train_df = pd.read_csv('train.csv')\n",
    "test_df = pd.read_csv('test.csv')"
   ]
  },
  {
   "cell_type": "code",
   "execution_count": 31,
   "metadata": {},
   "outputs": [
    {
     "name": "stdout",
     "output_type": "stream",
     "text": [
      "row:348978 and column:51 of  train dataframe\n"
     ]
    }
   ],
   "source": [
    "#check the dimension of train \n",
    "print \"row:{} and column:{} of  train dataframe\".format(train_df.shape[0],train_df.shape[1])"
   ]
  },
  {
   "cell_type": "code",
   "execution_count": 32,
   "metadata": {},
   "outputs": [
    {
     "name": "stdout",
     "output_type": "stream",
     "text": [
      "row:523466 and column:50 of  test dataframe\n"
     ]
    }
   ],
   "source": [
    "#check the dimension of test\n",
    "print \"row:{} and column:{} of  test dataframe\".format(test_df.shape[0],test_df.shape[1])"
   ]
  },
  {
   "cell_type": "code",
   "execution_count": 33,
   "metadata": {},
   "outputs": [
    {
     "data": {
      "text/html": [
       "<div>\n",
       "<style>\n",
       "    .dataframe thead tr:only-child th {\n",
       "        text-align: right;\n",
       "    }\n",
       "\n",
       "    .dataframe thead th {\n",
       "        text-align: left;\n",
       "    }\n",
       "\n",
       "    .dataframe tbody tr th {\n",
       "        vertical-align: top;\n",
       "    }\n",
       "</style>\n",
       "<table border=\"1\" class=\"dataframe\">\n",
       "  <thead>\n",
       "    <tr style=\"text-align: right;\">\n",
       "      <th></th>\n",
       "      <th>transaction_id</th>\n",
       "      <th>num_var_1</th>\n",
       "      <th>num_var_2</th>\n",
       "      <th>num_var_3</th>\n",
       "      <th>num_var_4</th>\n",
       "      <th>num_var_5</th>\n",
       "      <th>num_var_6</th>\n",
       "      <th>num_var_7</th>\n",
       "      <th>cat_var_1</th>\n",
       "      <th>cat_var_2</th>\n",
       "      <th>...</th>\n",
       "      <th>cat_var_34</th>\n",
       "      <th>cat_var_35</th>\n",
       "      <th>cat_var_36</th>\n",
       "      <th>cat_var_37</th>\n",
       "      <th>cat_var_38</th>\n",
       "      <th>cat_var_39</th>\n",
       "      <th>cat_var_40</th>\n",
       "      <th>cat_var_41</th>\n",
       "      <th>cat_var_42</th>\n",
       "      <th>target</th>\n",
       "    </tr>\n",
       "  </thead>\n",
       "  <tbody>\n",
       "    <tr>\n",
       "      <th>0</th>\n",
       "      <td>id_11</td>\n",
       "      <td>2.302632e-08</td>\n",
       "      <td>0.040182</td>\n",
       "      <td>0.0</td>\n",
       "      <td>1.800000e-07</td>\n",
       "      <td>2.302632e-08</td>\n",
       "      <td>2.368421e-08</td>\n",
       "      <td>1.115205e-08</td>\n",
       "      <td>NaN</td>\n",
       "      <td>ce</td>\n",
       "      <td>...</td>\n",
       "      <td>0</td>\n",
       "      <td>0</td>\n",
       "      <td>0</td>\n",
       "      <td>0</td>\n",
       "      <td>0</td>\n",
       "      <td>0</td>\n",
       "      <td>0</td>\n",
       "      <td>0</td>\n",
       "      <td>0</td>\n",
       "      <td>0</td>\n",
       "    </tr>\n",
       "    <tr>\n",
       "      <th>1</th>\n",
       "      <td>id_33</td>\n",
       "      <td>7.965789e-06</td>\n",
       "      <td>0.157872</td>\n",
       "      <td>0.0</td>\n",
       "      <td>2.105000e-06</td>\n",
       "      <td>2.769737e-07</td>\n",
       "      <td>7.965789e-06</td>\n",
       "      <td>2.433058e-06</td>\n",
       "      <td>da</td>\n",
       "      <td>tn</td>\n",
       "      <td>...</td>\n",
       "      <td>0</td>\n",
       "      <td>0</td>\n",
       "      <td>0</td>\n",
       "      <td>0</td>\n",
       "      <td>0</td>\n",
       "      <td>0</td>\n",
       "      <td>0</td>\n",
       "      <td>0</td>\n",
       "      <td>0</td>\n",
       "      <td>0</td>\n",
       "    </tr>\n",
       "    <tr>\n",
       "      <th>2</th>\n",
       "      <td>id_51</td>\n",
       "      <td>7.828947e-08</td>\n",
       "      <td>0.089140</td>\n",
       "      <td>0.0</td>\n",
       "      <td>3.550000e-07</td>\n",
       "      <td>4.671053e-08</td>\n",
       "      <td>1.052632e-07</td>\n",
       "      <td>4.276014e-07</td>\n",
       "      <td>gf</td>\n",
       "      <td>ce</td>\n",
       "      <td>...</td>\n",
       "      <td>0</td>\n",
       "      <td>0</td>\n",
       "      <td>0</td>\n",
       "      <td>0</td>\n",
       "      <td>0</td>\n",
       "      <td>0</td>\n",
       "      <td>0</td>\n",
       "      <td>0</td>\n",
       "      <td>0</td>\n",
       "      <td>0</td>\n",
       "    </tr>\n",
       "    <tr>\n",
       "      <th>3</th>\n",
       "      <td>id_54</td>\n",
       "      <td>7.894737e-08</td>\n",
       "      <td>0.227239</td>\n",
       "      <td>0.0</td>\n",
       "      <td>1.050000e-06</td>\n",
       "      <td>1.381579e-07</td>\n",
       "      <td>2.190789e-07</td>\n",
       "      <td>1.848054e-08</td>\n",
       "      <td>NaN</td>\n",
       "      <td>ce</td>\n",
       "      <td>...</td>\n",
       "      <td>0</td>\n",
       "      <td>0</td>\n",
       "      <td>0</td>\n",
       "      <td>0</td>\n",
       "      <td>0</td>\n",
       "      <td>0</td>\n",
       "      <td>0</td>\n",
       "      <td>0</td>\n",
       "      <td>0</td>\n",
       "      <td>0</td>\n",
       "    </tr>\n",
       "    <tr>\n",
       "      <th>4</th>\n",
       "      <td>id_62</td>\n",
       "      <td>3.321053e-06</td>\n",
       "      <td>0.160410</td>\n",
       "      <td>0.0</td>\n",
       "      <td>2.105000e-06</td>\n",
       "      <td>2.769737e-07</td>\n",
       "      <td>3.340789e-06</td>\n",
       "      <td>2.152983e-06</td>\n",
       "      <td>da</td>\n",
       "      <td>tn</td>\n",
       "      <td>...</td>\n",
       "      <td>0</td>\n",
       "      <td>0</td>\n",
       "      <td>0</td>\n",
       "      <td>0</td>\n",
       "      <td>0</td>\n",
       "      <td>0</td>\n",
       "      <td>0</td>\n",
       "      <td>0</td>\n",
       "      <td>0</td>\n",
       "      <td>0</td>\n",
       "    </tr>\n",
       "  </tbody>\n",
       "</table>\n",
       "<p>5 rows × 51 columns</p>\n",
       "</div>"
      ],
      "text/plain": [
       "  transaction_id     num_var_1  num_var_2  num_var_3     num_var_4  \\\n",
       "0          id_11  2.302632e-08   0.040182        0.0  1.800000e-07   \n",
       "1          id_33  7.965789e-06   0.157872        0.0  2.105000e-06   \n",
       "2          id_51  7.828947e-08   0.089140        0.0  3.550000e-07   \n",
       "3          id_54  7.894737e-08   0.227239        0.0  1.050000e-06   \n",
       "4          id_62  3.321053e-06   0.160410        0.0  2.105000e-06   \n",
       "\n",
       "      num_var_5     num_var_6     num_var_7 cat_var_1 cat_var_2  ...    \\\n",
       "0  2.302632e-08  2.368421e-08  1.115205e-08       NaN        ce  ...     \n",
       "1  2.769737e-07  7.965789e-06  2.433058e-06        da        tn  ...     \n",
       "2  4.671053e-08  1.052632e-07  4.276014e-07        gf        ce  ...     \n",
       "3  1.381579e-07  2.190789e-07  1.848054e-08       NaN        ce  ...     \n",
       "4  2.769737e-07  3.340789e-06  2.152983e-06        da        tn  ...     \n",
       "\n",
       "  cat_var_34 cat_var_35 cat_var_36 cat_var_37 cat_var_38 cat_var_39  \\\n",
       "0          0          0          0          0          0          0   \n",
       "1          0          0          0          0          0          0   \n",
       "2          0          0          0          0          0          0   \n",
       "3          0          0          0          0          0          0   \n",
       "4          0          0          0          0          0          0   \n",
       "\n",
       "  cat_var_40 cat_var_41 cat_var_42 target  \n",
       "0          0          0          0      0  \n",
       "1          0          0          0      0  \n",
       "2          0          0          0      0  \n",
       "3          0          0          0      0  \n",
       "4          0          0          0      0  \n",
       "\n",
       "[5 rows x 51 columns]"
      ]
     },
     "execution_count": 33,
     "metadata": {},
     "output_type": "execute_result"
    }
   ],
   "source": [
    "train_df.head()"
   ]
  },
  {
   "cell_type": "code",
   "execution_count": 34,
   "metadata": {},
   "outputs": [
    {
     "data": {
      "text/plain": [
       "transaction_id     object\n",
       "num_var_1         float64\n",
       "num_var_2         float64\n",
       "num_var_3         float64\n",
       "num_var_4         float64\n",
       "num_var_5         float64\n",
       "num_var_6         float64\n",
       "num_var_7         float64\n",
       "cat_var_1          object\n",
       "cat_var_2          object\n",
       "cat_var_3          object\n",
       "cat_var_4          object\n",
       "cat_var_5          object\n",
       "cat_var_6          object\n",
       "cat_var_7          object\n",
       "cat_var_8          object\n",
       "cat_var_9          object\n",
       "cat_var_10         object\n",
       "cat_var_11         object\n",
       "cat_var_12         object\n",
       "cat_var_13         object\n",
       "cat_var_14         object\n",
       "cat_var_15         object\n",
       "cat_var_16         object\n",
       "cat_var_17         object\n",
       "cat_var_18         object\n",
       "cat_var_19          int64\n",
       "cat_var_20          int64\n",
       "cat_var_21          int64\n",
       "cat_var_22          int64\n",
       "cat_var_23          int64\n",
       "cat_var_24          int64\n",
       "cat_var_25          int64\n",
       "cat_var_26          int64\n",
       "cat_var_27          int64\n",
       "cat_var_28          int64\n",
       "cat_var_29          int64\n",
       "cat_var_30          int64\n",
       "cat_var_31          int64\n",
       "cat_var_32          int64\n",
       "cat_var_33          int64\n",
       "cat_var_34          int64\n",
       "cat_var_35          int64\n",
       "cat_var_36          int64\n",
       "cat_var_37          int64\n",
       "cat_var_38          int64\n",
       "cat_var_39          int64\n",
       "cat_var_40          int64\n",
       "cat_var_41          int64\n",
       "cat_var_42          int64\n",
       "target              int64\n",
       "dtype: object"
      ]
     },
     "execution_count": 34,
     "metadata": {},
     "output_type": "execute_result"
    }
   ],
   "source": [
    "train_df.dtypes"
   ]
  },
  {
   "cell_type": "code",
   "execution_count": 35,
   "metadata": {
    "collapsed": true
   },
   "outputs": [],
   "source": [
    "\n",
    "all_data = pd.concat((train_df.loc[:,'transaction_id':'cat_var_42'],\n",
    "                      test_df.loc[:,'transaction_id':'cat_var_42']))"
   ]
  },
  {
   "cell_type": "code",
   "execution_count": 36,
   "metadata": {},
   "outputs": [
    {
     "data": {
      "text/plain": [
       "transaction_id         0\n",
       "num_var_1              0\n",
       "num_var_2              0\n",
       "num_var_3              0\n",
       "num_var_4              0\n",
       "num_var_5              0\n",
       "num_var_6              0\n",
       "num_var_7              0\n",
       "cat_var_1          34474\n",
       "cat_var_2              0\n",
       "cat_var_3          97215\n",
       "cat_var_4              0\n",
       "cat_var_5              0\n",
       "cat_var_6          21943\n",
       "cat_var_7              0\n",
       "cat_var_8         117876\n",
       "cat_var_9              0\n",
       "cat_var_10             0\n",
       "cat_var_11             0\n",
       "cat_var_12             0\n",
       "cat_var_13             0\n",
       "cat_var_14             0\n",
       "cat_var_15             0\n",
       "cat_var_16             0\n",
       "cat_var_17             0\n",
       "cat_var_18             0\n",
       "cat_var_19             0\n",
       "cat_var_20             0\n",
       "cat_var_21             0\n",
       "cat_var_22             0\n",
       "cat_var_23             0\n",
       "cat_var_24             0\n",
       "cat_var_25             0\n",
       "cat_var_26             0\n",
       "cat_var_27             0\n",
       "cat_var_28             0\n",
       "cat_var_29             0\n",
       "cat_var_30             0\n",
       "cat_var_31             0\n",
       "cat_var_32             0\n",
       "cat_var_33             0\n",
       "cat_var_34             0\n",
       "cat_var_35             0\n",
       "cat_var_36             0\n",
       "cat_var_37             0\n",
       "cat_var_38             0\n",
       "cat_var_39             0\n",
       "cat_var_40             0\n",
       "cat_var_41             0\n",
       "cat_var_42             0\n",
       "dtype: int64"
      ]
     },
     "execution_count": 36,
     "metadata": {},
     "output_type": "execute_result"
    }
   ],
   "source": [
    "#check the missing value \n",
    "all_data.isnull().sum()"
   ]
  },
  {
   "cell_type": "code",
   "execution_count": 37,
   "metadata": {
    "collapsed": true
   },
   "outputs": [],
   "source": [
    "#three column are having missing value ,initially i would like to drop \n",
    "#train_red_df=train_df[train_df.columns.difference(['cat_var_1','cat_var_3','cat_var_8'])]"
   ]
  },
  {
   "cell_type": "code",
   "execution_count": 38,
   "metadata": {},
   "outputs": [
    {
     "data": {
      "text/plain": [
       "gf    330763\n",
       "da    253029\n",
       "pu     49788\n",
       "yw     12330\n",
       "on      7752\n",
       "gz      7607\n",
       "ye      6303\n",
       "og      5367\n",
       "to      5117\n",
       "nk      5043\n",
       "tl      4707\n",
       "qk      4094\n",
       "jk      3756\n",
       "ex      3236\n",
       "pv      3028\n",
       "yv      2939\n",
       "ln      2915\n",
       "xf      2903\n",
       "zl      2878\n",
       "nm      2383\n",
       "tq      2267\n",
       "jp      2114\n",
       "pt      2111\n",
       "ap      2109\n",
       "by      1986\n",
       "fx      1974\n",
       "hn      1796\n",
       "mx      1738\n",
       "nj      1623\n",
       "ua      1534\n",
       "       ...  \n",
       "dx        26\n",
       "lm        26\n",
       "bg        25\n",
       "iu        25\n",
       "in        25\n",
       "vi        25\n",
       "ri        25\n",
       "kh        24\n",
       "ea        24\n",
       "ms        23\n",
       "rt        22\n",
       "vx        22\n",
       "rc        22\n",
       "zu        21\n",
       "bc        21\n",
       "iv        20\n",
       "hk        20\n",
       "ev        20\n",
       "oh        20\n",
       "cc        18\n",
       "tr        18\n",
       "oa        18\n",
       "at        15\n",
       "tt        15\n",
       "ed        14\n",
       "py        14\n",
       "or        14\n",
       "xn        13\n",
       "zp        12\n",
       "mh        12\n",
       "Name: cat_var_1, Length: 537, dtype: int64"
      ]
     },
     "execution_count": 38,
     "metadata": {},
     "output_type": "execute_result"
    }
   ],
   "source": [
    "all_data[\"cat_var_1\"].value_counts()"
   ]
  },
  {
   "cell_type": "code",
   "execution_count": 39,
   "metadata": {},
   "outputs": [
    {
     "data": {
      "text/plain": [
       "0         dn\n",
       "1         dn\n",
       "2         dn\n",
       "3         tk\n",
       "4         dn\n",
       "5         dn\n",
       "6         hn\n",
       "7         dn\n",
       "8         jo\n",
       "9         dn\n",
       "10        dn\n",
       "11        dn\n",
       "12        dn\n",
       "13        hd\n",
       "14        jo\n",
       "15        dn\n",
       "16        dn\n",
       "17        dn\n",
       "18        dn\n",
       "19        ea\n",
       "20        jo\n",
       "21        qk\n",
       "22        dn\n",
       "23        qk\n",
       "24        tk\n",
       "25        ga\n",
       "26        dn\n",
       "27        cb\n",
       "28        dn\n",
       "29        dn\n",
       "          ..\n",
       "523436    da\n",
       "523437    dn\n",
       "523438    da\n",
       "523439    dn\n",
       "523440    lh\n",
       "523441    dn\n",
       "523442    jo\n",
       "523443    dn\n",
       "523444    ao\n",
       "523445    dn\n",
       "523446    jo\n",
       "523447    dn\n",
       "523448    da\n",
       "523449    da\n",
       "523450    dn\n",
       "523451    da\n",
       "523452    dn\n",
       "523453    dn\n",
       "523454    da\n",
       "523455    dn\n",
       "523456    da\n",
       "523457    jk\n",
       "523458    dn\n",
       "523459    dn\n",
       "523460    dn\n",
       "523461    dn\n",
       "523462    db\n",
       "523463    ua\n",
       "523464    da\n",
       "523465    bk\n",
       "Name: cat_var_8, Length: 872444, dtype: object"
      ]
     },
     "execution_count": 39,
     "metadata": {},
     "output_type": "execute_result"
    }
   ],
   "source": [
    "#fill nan\n",
    "\n",
    "\n",
    "all_data[\"cat_var_1\"].fillna(all_data[\"cat_var_1\"].value_counts().index[0])  #imputed with most frequent value,first value will contain most frequently occuring value\n",
    "all_data[\"cat_var_3\"].fillna(all_data[\"cat_var_3\"].value_counts(). index[0])\n",
    "all_data[\"cat_var_6\"].fillna(all_data[\"cat_var_6\"].value_counts().index[0])\n",
    "all_data[\"cat_var_8\"].fillna(all_data[\"cat_var_8\"].value_counts().index[0])"
   ]
  },
  {
   "cell_type": "code",
   "execution_count": 40,
   "metadata": {},
   "outputs": [
    {
     "data": {
      "text/plain": [
       "(872444, 50)"
      ]
     },
     "execution_count": 40,
     "metadata": {},
     "output_type": "execute_result"
    }
   ],
   "source": [
    "all_data.shape"
   ]
  },
  {
   "cell_type": "code",
   "execution_count": 41,
   "metadata": {
    "collapsed": true
   },
   "outputs": [],
   "source": [
    "# convert categorical into integer used label encoder\n",
    "le = LabelEncoder()\n",
    "\n"
   ]
  },
  {
   "cell_type": "code",
   "execution_count": 42,
   "metadata": {
    "collapsed": true
   },
   "outputs": [],
   "source": [
    "objcolname=all_data.columns[all_data.dtypes==object]"
   ]
  },
  {
   "cell_type": "code",
   "execution_count": 43,
   "metadata": {},
   "outputs": [
    {
     "data": {
      "text/plain": [
       "Index([u'transaction_id', u'cat_var_1', u'cat_var_2', u'cat_var_3',\n",
       "       u'cat_var_4', u'cat_var_5', u'cat_var_6', u'cat_var_7', u'cat_var_8',\n",
       "       u'cat_var_9', u'cat_var_10', u'cat_var_11', u'cat_var_12',\n",
       "       u'cat_var_13', u'cat_var_14', u'cat_var_15', u'cat_var_16',\n",
       "       u'cat_var_17', u'cat_var_18'],\n",
       "      dtype='object')"
      ]
     },
     "execution_count": 43,
     "metadata": {},
     "output_type": "execute_result"
    }
   ],
   "source": [
    "objcolname"
   ]
  },
  {
   "cell_type": "code",
   "execution_count": 44,
   "metadata": {},
   "outputs": [
    {
     "name": "stderr",
     "output_type": "stream",
     "text": [
      "C:\\Users\\Ravi\\Anaconda2\\lib\\site-packages\\numpy\\lib\\arraysetops.py:216: FutureWarning: numpy not_equal will not check object identity in the future. The comparison did not return the same result as suggested by the identity (`is`)) and will change.\n",
      "  flag = np.concatenate(([True], aux[1:] != aux[:-1]))\n"
     ]
    }
   ],
   "source": [
    "#convert all the data into integer except transaction as it is not required at preset \n",
    "for col in objcolname:\n",
    "    if col!='transaction_id':\n",
    "        all_data[col]=le.fit_transform(all_data[col])"
   ]
  },
  {
   "cell_type": "code",
   "execution_count": 45,
   "metadata": {},
   "outputs": [
    {
     "data": {
      "text/plain": [
       "transaction_id     object\n",
       "num_var_1         float64\n",
       "num_var_2         float64\n",
       "num_var_3         float64\n",
       "num_var_4         float64\n",
       "num_var_5         float64\n",
       "num_var_6         float64\n",
       "num_var_7         float64\n",
       "cat_var_1           int64\n",
       "cat_var_2           int64\n",
       "cat_var_3           int64\n",
       "cat_var_4           int64\n",
       "cat_var_5           int64\n",
       "cat_var_6           int64\n",
       "cat_var_7           int64\n",
       "cat_var_8           int64\n",
       "cat_var_9           int64\n",
       "cat_var_10          int64\n",
       "cat_var_11          int64\n",
       "cat_var_12          int64\n",
       "cat_var_13          int64\n",
       "cat_var_14          int64\n",
       "cat_var_15          int64\n",
       "cat_var_16          int64\n",
       "cat_var_17          int64\n",
       "cat_var_18          int64\n",
       "cat_var_19          int64\n",
       "cat_var_20          int64\n",
       "cat_var_21          int64\n",
       "cat_var_22          int64\n",
       "cat_var_23          int64\n",
       "cat_var_24          int64\n",
       "cat_var_25          int64\n",
       "cat_var_26          int64\n",
       "cat_var_27          int64\n",
       "cat_var_28          int64\n",
       "cat_var_29          int64\n",
       "cat_var_30          int64\n",
       "cat_var_31          int64\n",
       "cat_var_32          int64\n",
       "cat_var_33          int64\n",
       "cat_var_34          int64\n",
       "cat_var_35          int64\n",
       "cat_var_36          int64\n",
       "cat_var_37          int64\n",
       "cat_var_38          int64\n",
       "cat_var_39          int64\n",
       "cat_var_40          int64\n",
       "cat_var_41          int64\n",
       "cat_var_42          int64\n",
       "dtype: object"
      ]
     },
     "execution_count": 45,
     "metadata": {},
     "output_type": "execute_result"
    }
   ],
   "source": [
    "all_data.dtypes"
   ]
  },
  {
   "cell_type": "code",
   "execution_count": 46,
   "metadata": {
    "collapsed": true
   },
   "outputs": [],
   "source": [
    "#extract target column \n",
    "y=train_df['target']"
   ]
  },
  {
   "cell_type": "code",
   "execution_count": 47,
   "metadata": {},
   "outputs": [
    {
     "data": {
      "text/plain": [
       "transaction_id     object\n",
       "num_var_1         float64\n",
       "num_var_2         float64\n",
       "num_var_3         float64\n",
       "num_var_4         float64\n",
       "num_var_5         float64\n",
       "num_var_6         float64\n",
       "num_var_7         float64\n",
       "cat_var_1           int64\n",
       "cat_var_2           int64\n",
       "cat_var_3           int64\n",
       "cat_var_4           int64\n",
       "cat_var_5           int64\n",
       "cat_var_6           int64\n",
       "cat_var_7           int64\n",
       "cat_var_8           int64\n",
       "cat_var_9           int64\n",
       "cat_var_10          int64\n",
       "cat_var_11          int64\n",
       "cat_var_12          int64\n",
       "cat_var_13          int64\n",
       "cat_var_14          int64\n",
       "cat_var_15          int64\n",
       "cat_var_16          int64\n",
       "cat_var_17          int64\n",
       "cat_var_18          int64\n",
       "cat_var_19          int64\n",
       "cat_var_20          int64\n",
       "cat_var_21          int64\n",
       "cat_var_22          int64\n",
       "cat_var_23          int64\n",
       "cat_var_24          int64\n",
       "cat_var_25          int64\n",
       "cat_var_26          int64\n",
       "cat_var_27          int64\n",
       "cat_var_28          int64\n",
       "cat_var_29          int64\n",
       "cat_var_30          int64\n",
       "cat_var_31          int64\n",
       "cat_var_32          int64\n",
       "cat_var_33          int64\n",
       "cat_var_34          int64\n",
       "cat_var_35          int64\n",
       "cat_var_36          int64\n",
       "cat_var_37          int64\n",
       "cat_var_38          int64\n",
       "cat_var_39          int64\n",
       "cat_var_40          int64\n",
       "cat_var_41          int64\n",
       "cat_var_42          int64\n",
       "dtype: object"
      ]
     },
     "execution_count": 47,
     "metadata": {},
     "output_type": "execute_result"
    }
   ],
   "source": [
    "all_data.dtypes"
   ]
  },
  {
   "cell_type": "code",
   "execution_count": 51,
   "metadata": {
    "collapsed": true
   },
   "outputs": [],
   "source": [
    "#standard Scalar\n",
    "from sklearn.preprocessing import StandardScaler"
   ]
  },
  {
   "cell_type": "code",
   "execution_count": 52,
   "metadata": {
    "collapsed": true
   },
   "outputs": [],
   "source": [
    "std_scaler=StandardScaler().fit(all_data.loc[:,all_data.columns!='transaction_id'])"
   ]
  },
  {
   "cell_type": "code",
   "execution_count": 53,
   "metadata": {
    "collapsed": true
   },
   "outputs": [],
   "source": [
    "all_data_scaled = std_scaler.transform(all_data.loc[:,all_data.columns!='transaction_id'])"
   ]
  },
  {
   "cell_type": "code",
   "execution_count": 25,
   "metadata": {},
   "outputs": [
    {
     "data": {
      "text/plain": [
       "array([[ -1.05762975e-02,  -9.16042812e-01,  -5.09554463e-03, ...,\n",
       "         -1.51407265e-03,  -1.07061043e-03,   0.00000000e+00],\n",
       "       [ -6.07376814e-03,  -2.18115395e-02,  -5.09554463e-03, ...,\n",
       "         -1.51407265e-03,  -1.07061043e-03,   0.00000000e+00],\n",
       "       [ -1.05449704e-02,  -5.44049030e-01,  -5.09554463e-03, ...,\n",
       "         -1.51407265e-03,  -1.07061043e-03,   0.00000000e+00],\n",
       "       ..., \n",
       "       [ -1.05479539e-02,   1.93778421e+00,  -5.09554463e-03, ...,\n",
       "         -1.51407265e-03,  -1.07061043e-03,   0.00000000e+00],\n",
       "       [ -1.05296798e-02,  -6.43939810e-02,  -5.09554463e-03, ...,\n",
       "         -1.51407265e-03,  -1.07061043e-03,   0.00000000e+00],\n",
       "       [ -9.66184362e-03,   2.39494288e+00,  -5.09554463e-03, ...,\n",
       "         -1.51407265e-03,  -1.07061043e-03,   0.00000000e+00]])"
      ]
     },
     "execution_count": 25,
     "metadata": {},
     "output_type": "execute_result"
    }
   ],
   "source": [
    "all_data_scaled"
   ]
  },
  {
   "cell_type": "code",
   "execution_count": 26,
   "metadata": {
    "collapsed": true
   },
   "outputs": [],
   "source": [
    "#dimension reduction "
   ]
  },
  {
   "cell_type": "code",
   "execution_count": 54,
   "metadata": {
    "collapsed": true
   },
   "outputs": [],
   "source": [
    "from sklearn.decomposition import PCA"
   ]
  },
  {
   "cell_type": "code",
   "execution_count": 55,
   "metadata": {
    "collapsed": true
   },
   "outputs": [],
   "source": [
    "pca = PCA()\n"
   ]
  },
  {
   "cell_type": "code",
   "execution_count": 56,
   "metadata": {},
   "outputs": [
    {
     "data": {
      "text/plain": [
       "PCA(copy=True, iterated_power='auto', n_components=None, random_state=None,\n",
       "  svd_solver='auto', tol=0.0, whiten=False)"
      ]
     },
     "execution_count": 56,
     "metadata": {},
     "output_type": "execute_result"
    }
   ],
   "source": [
    "pca.fit(all_data_scaled)"
   ]
  },
  {
   "cell_type": "code",
   "execution_count": 57,
   "metadata": {},
   "outputs": [
    {
     "name": "stdout",
     "output_type": "stream",
     "text": [
      "[  6.79314679e+00   4.55931605e+00   3.41542211e+00   2.28754987e+00\n",
      "   2.01659895e+00   1.36110074e+00   1.17084672e+00   1.12143361e+00\n",
      "   1.08509265e+00   1.03264984e+00   1.01417815e+00   1.00439057e+00\n",
      "   1.00104370e+00   1.00068682e+00   1.00029906e+00   1.00021829e+00\n",
      "   1.00008514e+00   1.00006759e+00   1.00002490e+00   1.00000861e+00\n",
      "   9.99956885e-01   9.99891000e-01   9.97274860e-01   9.92065605e-01\n",
      "   9.78583545e-01   9.15996880e-01   7.96200613e-01   7.77771134e-01\n",
      "   6.11147457e-01   5.67835530e-01   5.28595455e-01   5.16445707e-01\n",
      "   4.60642356e-01   3.52933432e-01   3.03673491e-01   2.59818889e-01\n",
      "   2.39800004e-01   2.30013470e-01   1.92716219e-01   1.42034296e-01\n",
      "   9.41276939e-02   8.95681541e-02   6.34091126e-02   2.53380657e-02\n",
      "   2.56490915e-30   1.51561276e-30   2.42766721e-32   2.42766721e-32\n",
      "   4.33403846e-33]\n"
     ]
    }
   ],
   "source": [
    "print pca.explained_variance_"
   ]
  },
  {
   "cell_type": "code",
   "execution_count": 58,
   "metadata": {
    "collapsed": true
   },
   "outputs": [],
   "source": [
    "pca.n_components = 20"
   ]
  },
  {
   "cell_type": "code",
   "execution_count": 59,
   "metadata": {
    "collapsed": true
   },
   "outputs": [],
   "source": [
    "all_data_reduced = pca.fit_transform(all_data_scaled)"
   ]
  },
  {
   "cell_type": "code",
   "execution_count": 60,
   "metadata": {},
   "outputs": [
    {
     "data": {
      "text/plain": [
       "(872444L, 20L)"
      ]
     },
     "execution_count": 60,
     "metadata": {},
     "output_type": "execute_result"
    }
   ],
   "source": [
    "#just to verify\n",
    "all_data_reduced.shape"
   ]
  },
  {
   "cell_type": "code",
   "execution_count": 61,
   "metadata": {},
   "outputs": [],
   "source": [
    "#train,test split \n",
    "X_train = all_data_reduced[:train_df.shape[0]]\n",
    "#X_train = all_data[:train_df.shape[0]]\n",
    "\n",
    "#X_train=X_train.loc[:,X_train.columns!='transaction_id']\n"
   ]
  },
  {
   "cell_type": "code",
   "execution_count": 62,
   "metadata": {
    "collapsed": true
   },
   "outputs": [],
   "source": [
    "X_test=all_data_reduced[:test_df.shape[0]]\n",
    "\n",
    "#X_test=all_data[:test_df.shape[0]]\n",
    "#X_test=X_test.loc[:,X_test.columns!='transaction_id']\n"
   ]
  },
  {
   "cell_type": "code",
   "execution_count": 63,
   "metadata": {},
   "outputs": [
    {
     "name": "stdout",
     "output_type": "stream",
     "text": [
      "[ 0.04411615  0.05377905  0.05238705  0.05924693  0.0455267 ]\n",
      "('mean r2:', 0.05101117844426286)\n"
     ]
    }
   ],
   "source": [
    "from sklearn.model_selection import cross_val_score\n",
    "from sklearn.ensemble import RandomForestRegressor\n",
    "\n",
    "forest_reg = RandomForestRegressor(random_state=7)\n",
    "scores = cross_val_score(forest_reg, X_train, y, scoring='r2', cv=5)\n",
    "print(scores)\n",
    "print('mean r2:',np.mean(scores))"
   ]
  },
  {
   "cell_type": "code",
   "execution_count": null,
   "metadata": {
    "collapsed": true
   },
   "outputs": [],
   "source": []
  },
  {
   "cell_type": "code",
   "execution_count": null,
   "metadata": {
    "collapsed": true
   },
   "outputs": [],
   "source": []
  },
  {
   "cell_type": "code",
   "execution_count": 40,
   "metadata": {
    "collapsed": true
   },
   "outputs": [],
   "source": [
    "from sklearn.ensemble import BaggingClassifier\n",
    "import time\n",
    "from sklearn.svm import SVC"
   ]
  },
  {
   "cell_type": "code",
   "execution_count": null,
   "metadata": {
    "collapsed": true
   },
   "outputs": [],
   "source": [
    "#tryy with bagging \n",
    "\n",
    "start = time.time()\n",
    "clf = BaggingClassifier(SVC(kernel='linear', C=1.0 ))\n",
    "clf.fit(X_train, y)\n",
    "end = time.time()\n",
    "print \"Bagging SVC\", end - start, clf.score(X_train,y)"
   ]
  },
  {
   "cell_type": "code",
   "execution_count": null,
   "metadata": {
    "collapsed": true
   },
   "outputs": [],
   "source": [
    "#simple SVM \n",
    "\n",
    "C = 1.0 # SVM regularization parameter\n",
    "svc = svm.SVC(kernel='rbf', C=C, decision_function_shape='ovr').fit(X_train, y)\n",
    "\n",
    "\n"
   ]
  },
  {
   "cell_type": "code",
   "execution_count": null,
   "metadata": {
    "collapsed": true
   },
   "outputs": [],
   "source": [
    "Z = svc.predict(X_plot)"
   ]
  },
  {
   "cell_type": "code",
   "execution_count": null,
   "metadata": {
    "collapsed": true
   },
   "outputs": [],
   "source": [
    "#apply SVM on reduced data \n",
    "\n",
    "parameters = [{'kernel': ['rbf'],\n",
    "               'gamma': [0.01, 0.1],\n",
    "                'C': [1, 10,1000]},\n",
    "              {'kernel': ['linear'], 'C': [1, 10, 1000]}]"
   ]
  },
  {
   "cell_type": "code",
   "execution_count": null,
   "metadata": {
    "collapsed": true
   },
   "outputs": [],
   "source": []
  },
  {
   "cell_type": "code",
   "execution_count": null,
   "metadata": {
    "collapsed": true
   },
   "outputs": [],
   "source": [
    "\n",
    "from sklearn.model_selection import GridSearchCV\n",
    "from sklearn.metrics import classification_report\n",
    "clf = GridSearchCV(svm.SVC(decision_function_shape='ovr'), parameters, cv=5)\n",
    "clf.fit(X_reduced, y)"
   ]
  },
  {
   "cell_type": "code",
   "execution_count": null,
   "metadata": {
    "collapsed": true
   },
   "outputs": [],
   "source": [
    "print(clf.best_params_)"
   ]
  },
  {
   "cell_type": "code",
   "execution_count": null,
   "metadata": {
    "collapsed": true
   },
   "outputs": [],
   "source": []
  }
 ],
 "metadata": {
  "kernelspec": {
   "display_name": "Python 2",
   "language": "python",
   "name": "python2"
  },
  "language_info": {
   "codemirror_mode": {
    "name": "ipython",
    "version": 2
   },
   "file_extension": ".py",
   "mimetype": "text/x-python",
   "name": "python",
   "nbconvert_exporter": "python",
   "pygments_lexer": "ipython2",
   "version": "2.7.13"
  }
 },
 "nbformat": 4,
 "nbformat_minor": 2
}
