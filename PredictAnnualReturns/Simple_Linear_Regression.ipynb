{
 "cells": [
  {
   "cell_type": "code",
   "execution_count": 2,
   "metadata": {
    "collapsed": true
   },
   "outputs": [],
   "source": [
    "import pandas as pd\n",
    "import numpy as np\n",
    "from sklearn.preprocessing import LabelEncoder\n",
    "from sklearn import preprocessing"
   ]
  },
  {
   "cell_type": "code",
   "execution_count": 3,
   "metadata": {
    "collapsed": true
   },
   "outputs": [],
   "source": [
    "port_train_df = pd.read_csv('train.csv')\n",
    "port_test_df = pd.read_csv('test.csv')"
   ]
  },
  {
   "cell_type": "code",
   "execution_count": 4,
   "metadata": {
    "collapsed": true
   },
   "outputs": [],
   "source": [
    "all_data = pd.concat((port_train_df.loc[:,'portfolio_id':'status'],\n",
    "                      port_test_df.loc[:,'portfolio_id':'status']))"
   ]
  },
  {
   "cell_type": "code",
   "execution_count": 5,
   "metadata": {
    "collapsed": true
   },
   "outputs": [],
   "source": [
    "from datetime import datetime\n",
    "\n",
    "all_data['start_date']=all_data['start_date'].apply(lambda x: \"{0:-08d}\".format(x))\n",
    "\n",
    "all_data['start_date']=all_data['start_date'].apply(lambda x: datetime.strptime(x,'%Y%m%d'))"
   ]
  },
  {
   "cell_type": "code",
   "execution_count": 6,
   "metadata": {
    "collapsed": true
   },
   "outputs": [],
   "source": [
    "all_data['sell_date']=all_data['sell_date'].apply(lambda x: \"{0:-08d}\".format(x))\n",
    "all_data['sell_date']=all_data['sell_date'].apply(lambda x: datetime.strptime(x,'%Y%m%d'))"
   ]
  },
  {
   "cell_type": "code",
   "execution_count": 7,
   "metadata": {
    "collapsed": true
   },
   "outputs": [],
   "source": [
    "\n",
    "all_data['creation_date']=all_data['creation_date'].apply(lambda x: \"{0:-08d}\".format(x))\n",
    "all_data['creation_date']=all_data['creation_date'].apply(lambda x: datetime.strptime(x,'%Y%m%d'))"
   ]
  },
  {
   "cell_type": "code",
   "execution_count": 11,
   "metadata": {},
   "outputs": [
    {
     "data": {
      "text/plain": [
       "portfolio_id              object\n",
       "desk_id                   object\n",
       "office_id                 object\n",
       "pf_category               object\n",
       "start_date        datetime64[ns]\n",
       "sold                     float64\n",
       "country_code              object\n",
       "euribor_rate             float64\n",
       "currency                  object\n",
       "libor_rate               float64\n",
       "bought                   float64\n",
       "creation_date     datetime64[ns]\n",
       "indicator_code            object\n",
       "sell_date         datetime64[ns]\n",
       "type                      object\n",
       "hedge_value               object\n",
       "status                    object\n",
       "dtype: object"
      ]
     },
     "execution_count": 11,
     "metadata": {},
     "output_type": "execute_result"
    }
   ],
   "source": [
    "all_data.dtypes"
   ]
  },
  {
   "cell_type": "code",
   "execution_count": 9,
   "metadata": {},
   "outputs": [
    {
     "name": "stdout",
     "output_type": "stream",
     "text": [
      "Index([u'sold', u'euribor_rate', u'libor_rate', u'bought'], dtype='object')\n"
     ]
    }
   ],
   "source": [
    "from scipy.stats import skew\n",
    "#get all the columns with numeric data types\n",
    "numeric_feats =all_data.dtypes[(all_data.dtypes!='object') & (all_data.dtypes!='datetime64[ns]')].index\n",
    "\n",
    "print numeric_feats"
   ]
  },
  {
   "cell_type": "code",
   "execution_count": 12,
   "metadata": {},
   "outputs": [
    {
     "data": {
      "text/plain": [
       "sold              2\n",
       "euribor_rate      0\n",
       "libor_rate      739\n",
       "bought            2\n",
       "dtype: int64"
      ]
     },
     "execution_count": 12,
     "metadata": {},
     "output_type": "execute_result"
    }
   ],
   "source": [
    "all_data[numeric_feats].isnull().sum()"
   ]
  },
  {
   "cell_type": "code",
   "execution_count": 13,
   "metadata": {
    "collapsed": true
   },
   "outputs": [],
   "source": [
    "#missing value are there first impute it \n",
    "all_data[\"libor_rate\"]=all_data[\"libor_rate\"].fillna(all_data[\"libor_rate\"].median())\n",
    "#fill missing value for bought\n",
    "all_data[\"bought\"]=all_data[\"bought\"].fillna(all_data[\"bought\"].median())\n",
    "\n",
    "all_data[\"sold\"].fillna(all_data[\"sold\"].median(), inplace=True)"
   ]
  },
  {
   "cell_type": "code",
   "execution_count": 14,
   "metadata": {},
   "outputs": [
    {
     "name": "stderr",
     "output_type": "stream",
     "text": [
      "C:\\Users\\Ravi\\Anaconda2\\lib\\site-packages\\sklearn\\preprocessing\\data.py:160: UserWarning: Numerical issues were encountered when centering the data and might not be solved. Dataset may contain too large values. You may need to prescale your features.\n",
      "  warnings.warn(\"Numerical issues were encountered \"\n"
     ]
    }
   ],
   "source": [
    "#standarized the data \n",
    "# standardize the data attributes\n",
    "all_data[numeric_feats] = preprocessing.scale(all_data[numeric_feats])"
   ]
  },
  {
   "cell_type": "code",
   "execution_count": 15,
   "metadata": {},
   "outputs": [
    {
     "data": {
      "text/html": [
       "<div>\n",
       "<style>\n",
       "    .dataframe thead tr:only-child th {\n",
       "        text-align: right;\n",
       "    }\n",
       "\n",
       "    .dataframe thead th {\n",
       "        text-align: left;\n",
       "    }\n",
       "\n",
       "    .dataframe tbody tr th {\n",
       "        vertical-align: top;\n",
       "    }\n",
       "</style>\n",
       "<table border=\"1\" class=\"dataframe\">\n",
       "  <thead>\n",
       "    <tr style=\"text-align: right;\">\n",
       "      <th></th>\n",
       "      <th>portfolio_id</th>\n",
       "      <th>desk_id</th>\n",
       "      <th>office_id</th>\n",
       "      <th>pf_category</th>\n",
       "      <th>start_date</th>\n",
       "      <th>sold</th>\n",
       "      <th>country_code</th>\n",
       "      <th>euribor_rate</th>\n",
       "      <th>currency</th>\n",
       "      <th>libor_rate</th>\n",
       "      <th>bought</th>\n",
       "      <th>creation_date</th>\n",
       "      <th>indicator_code</th>\n",
       "      <th>sell_date</th>\n",
       "      <th>type</th>\n",
       "      <th>hedge_value</th>\n",
       "      <th>status</th>\n",
       "    </tr>\n",
       "  </thead>\n",
       "  <tbody>\n",
       "    <tr>\n",
       "      <th>0</th>\n",
       "      <td>PF00001002</td>\n",
       "      <td>DSK00001001</td>\n",
       "      <td>OFF00001002</td>\n",
       "      <td>B</td>\n",
       "      <td>2004-07-20</td>\n",
       "      <td>0.044765</td>\n",
       "      <td>T</td>\n",
       "      <td>0.883079</td>\n",
       "      <td>USD</td>\n",
       "      <td>0.985558</td>\n",
       "      <td>0.044158</td>\n",
       "      <td>2004-07-20</td>\n",
       "      <td>NaN</td>\n",
       "      <td>2004-08-12</td>\n",
       "      <td>B</td>\n",
       "      <td>NaN</td>\n",
       "      <td>NaN</td>\n",
       "    </tr>\n",
       "    <tr>\n",
       "      <th>1</th>\n",
       "      <td>PF00001003</td>\n",
       "      <td>DSK00001002</td>\n",
       "      <td>OFF00001001</td>\n",
       "      <td>A</td>\n",
       "      <td>2004-07-09</td>\n",
       "      <td>0.424661</td>\n",
       "      <td>N</td>\n",
       "      <td>0.883079</td>\n",
       "      <td>GBP</td>\n",
       "      <td>3.083167</td>\n",
       "      <td>0.421505</td>\n",
       "      <td>2004-07-23</td>\n",
       "      <td>NaN</td>\n",
       "      <td>2004-08-12</td>\n",
       "      <td>C</td>\n",
       "      <td>NaN</td>\n",
       "      <td>NaN</td>\n",
       "    </tr>\n",
       "    <tr>\n",
       "      <th>2</th>\n",
       "      <td>PF00001005</td>\n",
       "      <td>DSK00001004</td>\n",
       "      <td>OFF00001001</td>\n",
       "      <td>A</td>\n",
       "      <td>2004-07-23</td>\n",
       "      <td>-0.260230</td>\n",
       "      <td>T</td>\n",
       "      <td>0.883079</td>\n",
       "      <td>USD</td>\n",
       "      <td>0.985558</td>\n",
       "      <td>-0.260404</td>\n",
       "      <td>2004-07-23</td>\n",
       "      <td>NaN</td>\n",
       "      <td>2004-08-17</td>\n",
       "      <td>A</td>\n",
       "      <td>NaN</td>\n",
       "      <td>NaN</td>\n",
       "    </tr>\n",
       "    <tr>\n",
       "      <th>3</th>\n",
       "      <td>PF00001006</td>\n",
       "      <td>DSK00001005</td>\n",
       "      <td>OFF00001001</td>\n",
       "      <td>A</td>\n",
       "      <td>2004-06-09</td>\n",
       "      <td>0.357094</td>\n",
       "      <td>T</td>\n",
       "      <td>0.883079</td>\n",
       "      <td>USD</td>\n",
       "      <td>0.985558</td>\n",
       "      <td>0.355955</td>\n",
       "      <td>2004-07-23</td>\n",
       "      <td>NaN</td>\n",
       "      <td>2004-07-13</td>\n",
       "      <td>A</td>\n",
       "      <td>NaN</td>\n",
       "      <td>NaN</td>\n",
       "    </tr>\n",
       "    <tr>\n",
       "      <th>4</th>\n",
       "      <td>PF00001007</td>\n",
       "      <td>DSK00001005</td>\n",
       "      <td>OFF00001002</td>\n",
       "      <td>B</td>\n",
       "      <td>2004-06-09</td>\n",
       "      <td>0.220266</td>\n",
       "      <td>T</td>\n",
       "      <td>0.883079</td>\n",
       "      <td>USD</td>\n",
       "      <td>0.985558</td>\n",
       "      <td>0.219328</td>\n",
       "      <td>2004-07-23</td>\n",
       "      <td>NaN</td>\n",
       "      <td>2004-07-13</td>\n",
       "      <td>B</td>\n",
       "      <td>NaN</td>\n",
       "      <td>NaN</td>\n",
       "    </tr>\n",
       "    <tr>\n",
       "      <th>5</th>\n",
       "      <td>PF00001008</td>\n",
       "      <td>DSK00001006</td>\n",
       "      <td>OFF00001001</td>\n",
       "      <td>A</td>\n",
       "      <td>2004-07-07</td>\n",
       "      <td>-0.304293</td>\n",
       "      <td>T</td>\n",
       "      <td>0.883079</td>\n",
       "      <td>USD</td>\n",
       "      <td>0.985558</td>\n",
       "      <td>-0.304457</td>\n",
       "      <td>2004-07-26</td>\n",
       "      <td>NaN</td>\n",
       "      <td>2004-08-10</td>\n",
       "      <td>A</td>\n",
       "      <td>NaN</td>\n",
       "      <td>NaN</td>\n",
       "    </tr>\n",
       "    <tr>\n",
       "      <th>6</th>\n",
       "      <td>PF00001010</td>\n",
       "      <td>DSK00001009</td>\n",
       "      <td>OFF00001001</td>\n",
       "      <td>A</td>\n",
       "      <td>2004-07-06</td>\n",
       "      <td>-0.236757</td>\n",
       "      <td>T</td>\n",
       "      <td>0.883079</td>\n",
       "      <td>USD</td>\n",
       "      <td>0.985558</td>\n",
       "      <td>-0.237020</td>\n",
       "      <td>2004-07-26</td>\n",
       "      <td>NaN</td>\n",
       "      <td>2004-08-09</td>\n",
       "      <td>A</td>\n",
       "      <td>NaN</td>\n",
       "      <td>NaN</td>\n",
       "    </tr>\n",
       "    <tr>\n",
       "      <th>7</th>\n",
       "      <td>PF00001011</td>\n",
       "      <td>DSK00001009</td>\n",
       "      <td>OFF00001002</td>\n",
       "      <td>B</td>\n",
       "      <td>2004-07-06</td>\n",
       "      <td>0.182658</td>\n",
       "      <td>T</td>\n",
       "      <td>0.883079</td>\n",
       "      <td>USD</td>\n",
       "      <td>0.985558</td>\n",
       "      <td>0.181778</td>\n",
       "      <td>2004-07-26</td>\n",
       "      <td>NaN</td>\n",
       "      <td>2004-08-09</td>\n",
       "      <td>B</td>\n",
       "      <td>NaN</td>\n",
       "      <td>NaN</td>\n",
       "    </tr>\n",
       "    <tr>\n",
       "      <th>8</th>\n",
       "      <td>PF00001012</td>\n",
       "      <td>DSK00001010</td>\n",
       "      <td>OFF00001001</td>\n",
       "      <td>A</td>\n",
       "      <td>2004-04-19</td>\n",
       "      <td>-0.109488</td>\n",
       "      <td>T</td>\n",
       "      <td>0.883079</td>\n",
       "      <td>USD</td>\n",
       "      <td>0.985558</td>\n",
       "      <td>-0.111477</td>\n",
       "      <td>2004-07-26</td>\n",
       "      <td>NaN</td>\n",
       "      <td>2004-07-20</td>\n",
       "      <td>A</td>\n",
       "      <td>NaN</td>\n",
       "      <td>NaN</td>\n",
       "    </tr>\n",
       "    <tr>\n",
       "      <th>9</th>\n",
       "      <td>PF00001016</td>\n",
       "      <td>DSK00001014</td>\n",
       "      <td>OFF00001001</td>\n",
       "      <td>A</td>\n",
       "      <td>2004-04-14</td>\n",
       "      <td>0.628681</td>\n",
       "      <td>T</td>\n",
       "      <td>0.883079</td>\n",
       "      <td>USD</td>\n",
       "      <td>0.985558</td>\n",
       "      <td>0.623324</td>\n",
       "      <td>2004-07-27</td>\n",
       "      <td>NaN</td>\n",
       "      <td>2004-07-13</td>\n",
       "      <td>A</td>\n",
       "      <td>NaN</td>\n",
       "      <td>NaN</td>\n",
       "    </tr>\n",
       "  </tbody>\n",
       "</table>\n",
       "</div>"
      ],
      "text/plain": [
       "  portfolio_id      desk_id    office_id pf_category start_date      sold  \\\n",
       "0   PF00001002  DSK00001001  OFF00001002           B 2004-07-20  0.044765   \n",
       "1   PF00001003  DSK00001002  OFF00001001           A 2004-07-09  0.424661   \n",
       "2   PF00001005  DSK00001004  OFF00001001           A 2004-07-23 -0.260230   \n",
       "3   PF00001006  DSK00001005  OFF00001001           A 2004-06-09  0.357094   \n",
       "4   PF00001007  DSK00001005  OFF00001002           B 2004-06-09  0.220266   \n",
       "5   PF00001008  DSK00001006  OFF00001001           A 2004-07-07 -0.304293   \n",
       "6   PF00001010  DSK00001009  OFF00001001           A 2004-07-06 -0.236757   \n",
       "7   PF00001011  DSK00001009  OFF00001002           B 2004-07-06  0.182658   \n",
       "8   PF00001012  DSK00001010  OFF00001001           A 2004-04-19 -0.109488   \n",
       "9   PF00001016  DSK00001014  OFF00001001           A 2004-04-14  0.628681   \n",
       "\n",
       "  country_code  euribor_rate currency  libor_rate    bought creation_date  \\\n",
       "0            T      0.883079      USD    0.985558  0.044158    2004-07-20   \n",
       "1            N      0.883079      GBP    3.083167  0.421505    2004-07-23   \n",
       "2            T      0.883079      USD    0.985558 -0.260404    2004-07-23   \n",
       "3            T      0.883079      USD    0.985558  0.355955    2004-07-23   \n",
       "4            T      0.883079      USD    0.985558  0.219328    2004-07-23   \n",
       "5            T      0.883079      USD    0.985558 -0.304457    2004-07-26   \n",
       "6            T      0.883079      USD    0.985558 -0.237020    2004-07-26   \n",
       "7            T      0.883079      USD    0.985558  0.181778    2004-07-26   \n",
       "8            T      0.883079      USD    0.985558 -0.111477    2004-07-26   \n",
       "9            T      0.883079      USD    0.985558  0.623324    2004-07-27   \n",
       "\n",
       "  indicator_code  sell_date type hedge_value status  \n",
       "0            NaN 2004-08-12    B         NaN    NaN  \n",
       "1            NaN 2004-08-12    C         NaN    NaN  \n",
       "2            NaN 2004-08-17    A         NaN    NaN  \n",
       "3            NaN 2004-07-13    A         NaN    NaN  \n",
       "4            NaN 2004-07-13    B         NaN    NaN  \n",
       "5            NaN 2004-08-10    A         NaN    NaN  \n",
       "6            NaN 2004-08-09    A         NaN    NaN  \n",
       "7            NaN 2004-08-09    B         NaN    NaN  \n",
       "8            NaN 2004-07-20    A         NaN    NaN  \n",
       "9            NaN 2004-07-13    A         NaN    NaN  "
      ]
     },
     "execution_count": 15,
     "metadata": {},
     "output_type": "execute_result"
    }
   ],
   "source": [
    "all_data.head(10)"
   ]
  },
  {
   "cell_type": "code",
   "execution_count": 16,
   "metadata": {
    "collapsed": true
   },
   "outputs": [],
   "source": [
    "#calculate duration\n",
    "#all the data has been converted into datetime now we can calculate the duration\n",
    "\n",
    "all_data['duration']=(all_data['creation_date']-all_data['start_date']).apply(lambda x:x.days)"
   ]
  },
  {
   "cell_type": "code",
   "execution_count": 17,
   "metadata": {
    "collapsed": true
   },
   "outputs": [],
   "source": [
    "\n",
    "all_data[\"hedge_value\"]=all_data[\"hedge_value\"].fillna(all_data[\"hedge_value\"].median())"
   ]
  },
  {
   "cell_type": "code",
   "execution_count": 24,
   "metadata": {},
   "outputs": [],
   "source": [
    "\n",
    "from sklearn.preprocessing import LabelEncoder\n",
    "le = LabelEncoder()\n",
    "#label encoder\n",
    "objcolname=['pf_category','currency','type','country_code']\n",
    "for col in objcolname:\n",
    "    all_data[col]=le.fit_transform(all_data[col])"
   ]
  },
  {
   "cell_type": "code",
   "execution_count": 25,
   "metadata": {
    "collapsed": true
   },
   "outputs": [],
   "source": [
    "all_new_data=all_data.drop(['start_date', 'creation_date', 'sell_date', 'indicator_code', 'status', 'desk_id','portfolio_id','office_id'],axis=1)"
   ]
  },
  {
   "cell_type": "code",
   "execution_count": 26,
   "metadata": {
    "collapsed": true
   },
   "outputs": [],
   "source": [
    "X_train = all_new_data[:port_train_df.shape[0]]"
   ]
  },
  {
   "cell_type": "code",
   "execution_count": 27,
   "metadata": {
    "collapsed": true
   },
   "outputs": [],
   "source": [
    "y=port_train_df[['return']]"
   ]
  },
  {
   "cell_type": "code",
   "execution_count": 28,
   "metadata": {},
   "outputs": [
    {
     "data": {
      "text/plain": [
       "pf_category       int64\n",
       "sold            float64\n",
       "country_code      int64\n",
       "euribor_rate    float64\n",
       "currency          int64\n",
       "libor_rate      float64\n",
       "bought          float64\n",
       "type              int64\n",
       "hedge_value      object\n",
       "duration          int64\n",
       "dtype: object"
      ]
     },
     "execution_count": 28,
     "metadata": {},
     "output_type": "execute_result"
    }
   ],
   "source": [
    "X_train.dtypes"
   ]
  },
  {
   "cell_type": "code",
   "execution_count": 29,
   "metadata": {},
   "outputs": [
    {
     "data": {
      "text/plain": [
       "LinearRegression(copy_X=True, fit_intercept=True, n_jobs=1, normalize=False)"
      ]
     },
     "execution_count": 29,
     "metadata": {},
     "output_type": "execute_result"
    }
   ],
   "source": [
    "from sklearn import linear_model  \n",
    "model = linear_model.LinearRegression()  \n",
    "model.fit(X_train, y)  "
   ]
  },
  {
   "cell_type": "code",
   "execution_count": 30,
   "metadata": {},
   "outputs": [
    {
     "ename": "NameError",
     "evalue": "name 'cross_val_score' is not defined",
     "output_type": "error",
     "traceback": [
      "\u001b[1;31m---------------------------------------------------------------------------\u001b[0m",
      "\u001b[1;31mNameError\u001b[0m                                 Traceback (most recent call last)",
      "\u001b[1;32m<ipython-input-30-2ddb61f8ae93>\u001b[0m in \u001b[0;36m<module>\u001b[1;34m()\u001b[0m\n\u001b[1;32m----> 1\u001b[1;33m \u001b[0mscores\u001b[0m \u001b[1;33m=\u001b[0m \u001b[0mcross_val_score\u001b[0m\u001b[1;33m(\u001b[0m\u001b[0mmodel\u001b[0m\u001b[1;33m,\u001b[0m \u001b[0mX_train\u001b[0m\u001b[1;33m,\u001b[0m \u001b[0my\u001b[0m\u001b[1;33m,\u001b[0m \u001b[0mscoring\u001b[0m\u001b[1;33m=\u001b[0m\u001b[1;34m'r2'\u001b[0m\u001b[1;33m,\u001b[0m \u001b[0mcv\u001b[0m\u001b[1;33m=\u001b[0m\u001b[1;36m5\u001b[0m\u001b[1;33m)\u001b[0m\u001b[1;33m\u001b[0m\u001b[0m\n\u001b[0m\u001b[0;32m      2\u001b[0m \u001b[1;32mprint\u001b[0m\u001b[1;33m(\u001b[0m\u001b[0mscores\u001b[0m\u001b[1;33m)\u001b[0m\u001b[1;33m\u001b[0m\u001b[0m\n\u001b[0;32m      3\u001b[0m \u001b[1;32mprint\u001b[0m\u001b[1;33m(\u001b[0m\u001b[1;34m'mean r2:'\u001b[0m\u001b[1;33m,\u001b[0m\u001b[0mnp\u001b[0m\u001b[1;33m.\u001b[0m\u001b[0mmean\u001b[0m\u001b[1;33m(\u001b[0m\u001b[0mscores\u001b[0m\u001b[1;33m)\u001b[0m\u001b[1;33m)\u001b[0m\u001b[1;33m\u001b[0m\u001b[0m\n",
      "\u001b[1;31mNameError\u001b[0m: name 'cross_val_score' is not defined"
     ]
    }
   ],
   "source": [
    "\n",
    "\n",
    "scores = cross_val_score(model, X_train, y, scoring='r2', cv=5)\n",
    "print(scores)\n",
    "print('mean r2:',np.mean(scores))"
   ]
  },
  {
   "cell_type": "code",
   "execution_count": null,
   "metadata": {
    "collapsed": true
   },
   "outputs": [],
   "source": []
  }
 ],
 "metadata": {
  "kernelspec": {
   "display_name": "Python 2",
   "language": "python",
   "name": "python2"
  },
  "language_info": {
   "codemirror_mode": {
    "name": "ipython",
    "version": 2
   },
   "file_extension": ".py",
   "mimetype": "text/x-python",
   "name": "python",
   "nbconvert_exporter": "python",
   "pygments_lexer": "ipython2",
   "version": "2.7.13"
  }
 },
 "nbformat": 4,
 "nbformat_minor": 2
}
