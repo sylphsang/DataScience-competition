{
 "cells": [
  {
   "cell_type": "code",
   "execution_count": 1,
   "metadata": {
    "collapsed": true
   },
   "outputs": [],
   "source": [
    "import pandas as pd\n",
    "import numpy as np\n",
    "from sklearn.preprocessing import LabelEncoder"
   ]
  },
  {
   "cell_type": "code",
   "execution_count": 2,
   "metadata": {
    "collapsed": true
   },
   "outputs": [],
   "source": [
    "port_train_df = pd.read_csv('train.csv')\n",
    "port_test_df = pd.read_csv('test.csv')"
   ]
  },
  {
   "cell_type": "code",
   "execution_count": 37,
   "metadata": {
    "collapsed": true
   },
   "outputs": [],
   "source": [
    "\n",
    "all_data = pd.concat((port_train_df.loc[:,'portfolio_id':'status'],\n",
    "                      port_test_df.loc[:,'portfolio_id':'status']))"
   ]
  },
  {
   "cell_type": "code",
   "execution_count": 38,
   "metadata": {
    "collapsed": true
   },
   "outputs": [],
   "source": [
    "from datetime import datetime\n",
    "\n",
    "all_data['start_date']=all_data['start_date'].apply(lambda x: \"{0:-08d}\".format(x))\n",
    "\n",
    "all_data['start_date']=all_data['start_date'].apply(lambda x: datetime.strptime(x,'%Y%m%d'))"
   ]
  },
  {
   "cell_type": "code",
   "execution_count": 39,
   "metadata": {
    "collapsed": true
   },
   "outputs": [],
   "source": [
    "all_data['sell_date']=all_data['sell_date'].apply(lambda x: \"{0:-08d}\".format(x))\n",
    "all_data['sell_date']=all_data['sell_date'].apply(lambda x: datetime.strptime(x,'%Y%m%d'))"
   ]
  },
  {
   "cell_type": "code",
   "execution_count": 40,
   "metadata": {
    "collapsed": true
   },
   "outputs": [],
   "source": [
    "\n",
    "all_data['creation_date']=all_data['creation_date'].apply(lambda x: \"{0:-08d}\".format(x))\n",
    "all_data['creation_date']=all_data['creation_date'].apply(lambda x: datetime.strptime(x,'%Y%m%d'))"
   ]
  },
  {
   "cell_type": "code",
   "execution_count": 41,
   "metadata": {},
   "outputs": [
    {
     "name": "stdout",
     "output_type": "stream",
     "text": [
      "Index([u'sold', u'euribor_rate', u'libor_rate', u'bought'], dtype='object')\n"
     ]
    }
   ],
   "source": [
    "from scipy.stats import skew\n",
    "#get all the columns with numeric data types\n",
    "numeric_feats =all_data.dtypes[(all_data.dtypes!='object') & (all_data.dtypes!='datetime64[ns]')].index\n",
    "\n",
    "print numeric_feats"
   ]
  },
  {
   "cell_type": "code",
   "execution_count": 42,
   "metadata": {
    "collapsed": true
   },
   "outputs": [],
   "source": [
    "port_train_df[\"sold\"] = np.log1p(port_train_df[\"sold\"])\n",
    "port_train_df[\"bought\"]=np.log1p(port_train_df[\"bought\"])\n",
    "skewed_feats = port_train_df[numeric_feats].apply(lambda x: skew(x.dropna())) #compute skewness"
   ]
  },
  {
   "cell_type": "code",
   "execution_count": 43,
   "metadata": {},
   "outputs": [
    {
     "data": {
      "text/plain": [
       "sold           -4.774069\n",
       "euribor_rate    1.626369\n",
       "libor_rate      1.695345\n",
       "bought         -4.778083\n",
       "dtype: float64"
      ]
     },
     "execution_count": 43,
     "metadata": {},
     "output_type": "execute_result"
    }
   ],
   "source": [
    "skewed_feats"
   ]
  },
  {
   "cell_type": "code",
   "execution_count": 44,
   "metadata": {
    "collapsed": true
   },
   "outputs": [],
   "source": [
    "all_data[numeric_feats] = np.log1p(all_data[numeric_feats])"
   ]
  },
  {
   "cell_type": "code",
   "execution_count": null,
   "metadata": {
    "collapsed": true
   },
   "outputs": [],
   "source": []
  },
  {
   "cell_type": "code",
   "execution_count": null,
   "metadata": {
    "collapsed": true
   },
   "outputs": [],
   "source": []
  },
  {
   "cell_type": "code",
   "execution_count": 45,
   "metadata": {
    "collapsed": true
   },
   "outputs": [],
   "source": [
    "from sklearn.preprocessing import LabelEncoder\n",
    "le = LabelEncoder()"
   ]
  },
  {
   "cell_type": "code",
   "execution_count": 46,
   "metadata": {
    "collapsed": true
   },
   "outputs": [],
   "source": [
    "objcolname=['pf_category','currency','type','country_code']\n",
    "for col in objcolname:\n",
    "    all_data[col]=le.fit_transform(all_data[col])"
   ]
  },
  {
   "cell_type": "code",
   "execution_count": 47,
   "metadata": {
    "collapsed": true
   },
   "outputs": [],
   "source": [
    "all_data[\"libor_rate\"]=all_data[\"libor_rate\"].fillna(all_data[\"libor_rate\"].median())\n",
    "\n",
    "#fill status missing value\n",
    "all_data[\"status\"]=all_data[\"status\"].fillna(all_data[\"status\"].median())\n",
    "\n",
    "#fill missing value for indicator code\n",
    "all_data[\"indicator_code\"]=all_data[\"indicator_code\"].fillna(all_data[\"indicator_code\"].median())\n",
    "\n",
    "#fill missing value for bought\n",
    "all_data[\"bought\"]=all_data[\"bought\"].fillna(all_data[\"bought\"].median())\n",
    "\n",
    "all_data[\"hedge_value\"]=all_data[\"hedge_value\"].fillna(all_data[\"hedge_value\"].median())\n",
    "\n",
    "all_data[\"sold\"].fillna(all_data[\"sold\"].median(), inplace=True)\n"
   ]
  },
  {
   "cell_type": "code",
   "execution_count": 48,
   "metadata": {
    "collapsed": true
   },
   "outputs": [],
   "source": [
    "all_data['hedge_value']=all_data.hedge_value.astype(int)\n",
    "all_data['indicator_code']=all_data.indicator_code.astype(int)\n",
    "all_data['status']=all_data.status.astype(int)"
   ]
  },
  {
   "cell_type": "code",
   "execution_count": 49,
   "metadata": {},
   "outputs": [
    {
     "data": {
      "text/plain": [
       "portfolio_id              object\n",
       "desk_id                   object\n",
       "office_id                 object\n",
       "pf_category                int64\n",
       "start_date        datetime64[ns]\n",
       "sold                     float64\n",
       "country_code               int64\n",
       "euribor_rate             float64\n",
       "currency                   int64\n",
       "libor_rate               float64\n",
       "bought                   float64\n",
       "creation_date     datetime64[ns]\n",
       "indicator_code             int32\n",
       "sell_date         datetime64[ns]\n",
       "type                       int64\n",
       "hedge_value                int32\n",
       "status                     int32\n",
       "dtype: object"
      ]
     },
     "execution_count": 49,
     "metadata": {},
     "output_type": "execute_result"
    }
   ],
   "source": [
    "\n",
    "all_data.dtypes"
   ]
  },
  {
   "cell_type": "code",
   "execution_count": 58,
   "metadata": {
    "collapsed": true
   },
   "outputs": [],
   "source": [
    "#all the data has been converted into datetime now we can calculate the duration\n",
    "\n",
    "all_data['duration']=(all_data['sell_date']-all_data['start_date']).apply(lambda x:x.days)"
   ]
  },
  {
   "cell_type": "code",
   "execution_count": 59,
   "metadata": {},
   "outputs": [
    {
     "data": {
      "text/plain": [
       "0    23\n",
       "1    34\n",
       "2    25\n",
       "3    34\n",
       "4    34\n",
       "Name: duration, dtype: int64"
      ]
     },
     "execution_count": 59,
     "metadata": {},
     "output_type": "execute_result"
    }
   ],
   "source": [
    "all_data['duration'].head()"
   ]
  },
  {
   "cell_type": "code",
   "execution_count": 56,
   "metadata": {},
   "outputs": [],
   "source": [
    "data = all_data.ix[all_data['duration'] < 0]"
   ]
  },
  {
   "cell_type": "code",
   "execution_count": 57,
   "metadata": {},
   "outputs": [
    {
     "data": {
      "text/plain": [
       "(154, 18)"
      ]
     },
     "execution_count": 57,
     "metadata": {},
     "output_type": "execute_result"
    }
   ],
   "source": [
    "data.shape"
   ]
  },
  {
   "cell_type": "code",
   "execution_count": 60,
   "metadata": {},
   "outputs": [
    {
     "data": {
      "text/plain": [
       "0       23\n",
       "1       34\n",
       "2       25\n",
       "3       34\n",
       "4       34\n",
       "5       34\n",
       "6       34\n",
       "7       34\n",
       "8       92\n",
       "9       90\n",
       "10      35\n",
       "11      34\n",
       "12      34\n",
       "13      31\n",
       "14      93\n",
       "15      34\n",
       "16      34\n",
       "17      34\n",
       "18      38\n",
       "19      34\n",
       "20      34\n",
       "21      35\n",
       "22      32\n",
       "23      34\n",
       "24      96\n",
       "25      34\n",
       "26      34\n",
       "27      34\n",
       "28      34\n",
       "29      32\n",
       "        ..\n",
       "4771    30\n",
       "4772     7\n",
       "4773    90\n",
       "4774    30\n",
       "4775    30\n",
       "4776    33\n",
       "4777    31\n",
       "4778     7\n",
       "4779     7\n",
       "4780     7\n",
       "4781     7\n",
       "4782    63\n",
       "4783     7\n",
       "4784     3\n",
       "4785    90\n",
       "4786    33\n",
       "4787    32\n",
       "4788     7\n",
       "4789    91\n",
       "4790    34\n",
       "4791    91\n",
       "4792     7\n",
       "4793    91\n",
       "4794     7\n",
       "4795    32\n",
       "4796     7\n",
       "4797     7\n",
       "4798     7\n",
       "4799     7\n",
       "4800     7\n",
       "Name: duration, Length: 14167, dtype: int64"
      ]
     },
     "execution_count": 60,
     "metadata": {},
     "output_type": "execute_result"
    }
   ],
   "source": [
    "all_data['duration']"
   ]
  },
  {
   "cell_type": "code",
   "execution_count": 61,
   "metadata": {},
   "outputs": [
    {
     "data": {
      "text/plain": [
       "portfolio_id              object\n",
       "desk_id                   object\n",
       "office_id                 object\n",
       "pf_category                int64\n",
       "start_date        datetime64[ns]\n",
       "sold                     float64\n",
       "country_code               int64\n",
       "euribor_rate             float64\n",
       "currency                   int64\n",
       "libor_rate               float64\n",
       "bought                   float64\n",
       "creation_date     datetime64[ns]\n",
       "indicator_code             int32\n",
       "sell_date         datetime64[ns]\n",
       "type                       int64\n",
       "hedge_value                int32\n",
       "status                     int32\n",
       "duration                   int64\n",
       "dtype: object"
      ]
     },
     "execution_count": 61,
     "metadata": {},
     "output_type": "execute_result"
    }
   ],
   "source": [
    "all_data.dtypes"
   ]
  },
  {
   "cell_type": "code",
   "execution_count": 62,
   "metadata": {
    "collapsed": true
   },
   "outputs": [],
   "source": [
    "all_new_data=all_data.drop(['start_date', 'creation_date', 'sell_date', 'desk_id','portfolio_id','office_id'],axis=1)"
   ]
  },
  {
   "cell_type": "code",
   "execution_count": 63,
   "metadata": {},
   "outputs": [
    {
     "data": {
      "text/html": [
       "<div>\n",
       "<style>\n",
       "    .dataframe thead tr:only-child th {\n",
       "        text-align: right;\n",
       "    }\n",
       "\n",
       "    .dataframe thead th {\n",
       "        text-align: left;\n",
       "    }\n",
       "\n",
       "    .dataframe tbody tr th {\n",
       "        vertical-align: top;\n",
       "    }\n",
       "</style>\n",
       "<table border=\"1\" class=\"dataframe\">\n",
       "  <thead>\n",
       "    <tr style=\"text-align: right;\">\n",
       "      <th></th>\n",
       "      <th>pf_category</th>\n",
       "      <th>sold</th>\n",
       "      <th>country_code</th>\n",
       "      <th>euribor_rate</th>\n",
       "      <th>currency</th>\n",
       "      <th>libor_rate</th>\n",
       "      <th>bought</th>\n",
       "      <th>indicator_code</th>\n",
       "      <th>type</th>\n",
       "      <th>hedge_value</th>\n",
       "      <th>status</th>\n",
       "      <th>duration</th>\n",
       "    </tr>\n",
       "  </thead>\n",
       "  <tbody>\n",
       "    <tr>\n",
       "      <th>0</th>\n",
       "      <td>1</td>\n",
       "      <td>2.971234</td>\n",
       "      <td>2</td>\n",
       "      <td>0.020528</td>\n",
       "      <td>4</td>\n",
       "      <td>1.203638</td>\n",
       "      <td>2.971145</td>\n",
       "      <td>1</td>\n",
       "      <td>1</td>\n",
       "      <td>0</td>\n",
       "      <td>1</td>\n",
       "      <td>23</td>\n",
       "    </tr>\n",
       "    <tr>\n",
       "      <th>1</th>\n",
       "      <td>0</td>\n",
       "      <td>2.995222</td>\n",
       "      <td>1</td>\n",
       "      <td>0.020528</td>\n",
       "      <td>2</td>\n",
       "      <td>1.835715</td>\n",
       "      <td>2.995034</td>\n",
       "      <td>1</td>\n",
       "      <td>2</td>\n",
       "      <td>0</td>\n",
       "      <td>1</td>\n",
       "      <td>34</td>\n",
       "    </tr>\n",
       "    <tr>\n",
       "      <th>2</th>\n",
       "      <td>0</td>\n",
       "      <td>2.936475</td>\n",
       "      <td>2</td>\n",
       "      <td>0.020528</td>\n",
       "      <td>4</td>\n",
       "      <td>1.203638</td>\n",
       "      <td>2.936386</td>\n",
       "      <td>1</td>\n",
       "      <td>0</td>\n",
       "      <td>0</td>\n",
       "      <td>1</td>\n",
       "      <td>25</td>\n",
       "    </tr>\n",
       "    <tr>\n",
       "      <th>3</th>\n",
       "      <td>0</td>\n",
       "      <td>2.991740</td>\n",
       "      <td>2</td>\n",
       "      <td>0.020528</td>\n",
       "      <td>4</td>\n",
       "      <td>1.203638</td>\n",
       "      <td>2.991648</td>\n",
       "      <td>1</td>\n",
       "      <td>0</td>\n",
       "      <td>0</td>\n",
       "      <td>1</td>\n",
       "      <td>34</td>\n",
       "    </tr>\n",
       "    <tr>\n",
       "      <th>4</th>\n",
       "      <td>1</td>\n",
       "      <td>2.983804</td>\n",
       "      <td>2</td>\n",
       "      <td>0.020528</td>\n",
       "      <td>4</td>\n",
       "      <td>1.203638</td>\n",
       "      <td>2.983710</td>\n",
       "      <td>1</td>\n",
       "      <td>1</td>\n",
       "      <td>0</td>\n",
       "      <td>1</td>\n",
       "      <td>34</td>\n",
       "    </tr>\n",
       "    <tr>\n",
       "      <th>5</th>\n",
       "      <td>0</td>\n",
       "      <td>2.928632</td>\n",
       "      <td>2</td>\n",
       "      <td>0.020528</td>\n",
       "      <td>4</td>\n",
       "      <td>1.203638</td>\n",
       "      <td>2.928534</td>\n",
       "      <td>1</td>\n",
       "      <td>0</td>\n",
       "      <td>0</td>\n",
       "      <td>1</td>\n",
       "      <td>34</td>\n",
       "    </tr>\n",
       "    <tr>\n",
       "      <th>6</th>\n",
       "      <td>0</td>\n",
       "      <td>2.940204</td>\n",
       "      <td>2</td>\n",
       "      <td>0.020528</td>\n",
       "      <td>4</td>\n",
       "      <td>1.203638</td>\n",
       "      <td>2.940106</td>\n",
       "      <td>1</td>\n",
       "      <td>0</td>\n",
       "      <td>0</td>\n",
       "      <td>1</td>\n",
       "      <td>34</td>\n",
       "    </tr>\n",
       "    <tr>\n",
       "      <th>7</th>\n",
       "      <td>1</td>\n",
       "      <td>2.981372</td>\n",
       "      <td>2</td>\n",
       "      <td>0.020528</td>\n",
       "      <td>4</td>\n",
       "      <td>1.203638</td>\n",
       "      <td>2.981278</td>\n",
       "      <td>1</td>\n",
       "      <td>1</td>\n",
       "      <td>0</td>\n",
       "      <td>1</td>\n",
       "      <td>34</td>\n",
       "    </tr>\n",
       "    <tr>\n",
       "      <th>8</th>\n",
       "      <td>0</td>\n",
       "      <td>2.956653</td>\n",
       "      <td>2</td>\n",
       "      <td>0.020528</td>\n",
       "      <td>4</td>\n",
       "      <td>1.203638</td>\n",
       "      <td>2.956387</td>\n",
       "      <td>1</td>\n",
       "      <td>0</td>\n",
       "      <td>0</td>\n",
       "      <td>1</td>\n",
       "      <td>92</td>\n",
       "    </tr>\n",
       "    <tr>\n",
       "      <th>9</th>\n",
       "      <td>0</td>\n",
       "      <td>3.004411</td>\n",
       "      <td>2</td>\n",
       "      <td>0.020528</td>\n",
       "      <td>4</td>\n",
       "      <td>1.203638</td>\n",
       "      <td>3.004163</td>\n",
       "      <td>1</td>\n",
       "      <td>0</td>\n",
       "      <td>0</td>\n",
       "      <td>1</td>\n",
       "      <td>90</td>\n",
       "    </tr>\n",
       "  </tbody>\n",
       "</table>\n",
       "</div>"
      ],
      "text/plain": [
       "   pf_category      sold  country_code  euribor_rate  currency  libor_rate  \\\n",
       "0            1  2.971234             2      0.020528         4    1.203638   \n",
       "1            0  2.995222             1      0.020528         2    1.835715   \n",
       "2            0  2.936475             2      0.020528         4    1.203638   \n",
       "3            0  2.991740             2      0.020528         4    1.203638   \n",
       "4            1  2.983804             2      0.020528         4    1.203638   \n",
       "5            0  2.928632             2      0.020528         4    1.203638   \n",
       "6            0  2.940204             2      0.020528         4    1.203638   \n",
       "7            1  2.981372             2      0.020528         4    1.203638   \n",
       "8            0  2.956653             2      0.020528         4    1.203638   \n",
       "9            0  3.004411             2      0.020528         4    1.203638   \n",
       "\n",
       "     bought  indicator_code  type  hedge_value  status  duration  \n",
       "0  2.971145               1     1            0       1        23  \n",
       "1  2.995034               1     2            0       1        34  \n",
       "2  2.936386               1     0            0       1        25  \n",
       "3  2.991648               1     0            0       1        34  \n",
       "4  2.983710               1     1            0       1        34  \n",
       "5  2.928534               1     0            0       1        34  \n",
       "6  2.940106               1     0            0       1        34  \n",
       "7  2.981278               1     1            0       1        34  \n",
       "8  2.956387               1     0            0       1        92  \n",
       "9  3.004163               1     0            0       1        90  "
      ]
     },
     "execution_count": 63,
     "metadata": {},
     "output_type": "execute_result"
    }
   ],
   "source": [
    "all_new_data.head(10)"
   ]
  },
  {
   "cell_type": "code",
   "execution_count": 64,
   "metadata": {
    "collapsed": true
   },
   "outputs": [],
   "source": [
    "X_train = all_new_data[:port_train_df.shape[0]]"
   ]
  },
  {
   "cell_type": "code",
   "execution_count": 65,
   "metadata": {},
   "outputs": [
    {
     "data": {
      "text/plain": [
       "(9366, 12)"
      ]
     },
     "execution_count": 65,
     "metadata": {},
     "output_type": "execute_result"
    }
   ],
   "source": [
    "X_train.shape"
   ]
  },
  {
   "cell_type": "code",
   "execution_count": 66,
   "metadata": {
    "collapsed": true
   },
   "outputs": [],
   "source": [
    "y=port_train_df[['return']]"
   ]
  },
  {
   "cell_type": "code",
   "execution_count": 67,
   "metadata": {
    "collapsed": true
   },
   "outputs": [],
   "source": [
    "X_test=all_new_data[:port_test_df.shape[0]]"
   ]
  },
  {
   "cell_type": "code",
   "execution_count": 68,
   "metadata": {},
   "outputs": [
    {
     "data": {
      "text/plain": [
       "(4801, 12)"
      ]
     },
     "execution_count": 68,
     "metadata": {},
     "output_type": "execute_result"
    }
   ],
   "source": [
    "X_test.shape"
   ]
  },
  {
   "cell_type": "code",
   "execution_count": 69,
   "metadata": {},
   "outputs": [
    {
     "name": "stderr",
     "output_type": "stream",
     "text": [
      "C:\\Users\\Ravi\\Anaconda2\\lib\\site-packages\\sklearn\\model_selection\\_validation.py:238: DataConversionWarning: A column-vector y was passed when a 1d array was expected. Please change the shape of y to (n_samples,), for example using ravel().\n",
      "  estimator.fit(X_train, y_train, **fit_params)\n"
     ]
    },
    {
     "name": "stdout",
     "output_type": "stream",
     "text": [
      "[-0.85285656  0.9227486   0.87477596  0.40113382  0.8357438 ]\n",
      "('mean r2:', 0.43630912485291962)\n"
     ]
    }
   ],
   "source": [
    "from sklearn.model_selection import cross_val_score\n",
    "from sklearn.ensemble import RandomForestRegressor\n",
    "\n",
    "forest_reg = RandomForestRegressor(random_state=7)\n",
    "scores = cross_val_score(forest_reg, X_train, y, scoring='r2', cv=5)\n",
    "print(scores)\n",
    "print('mean r2:',np.mean(scores))"
   ]
  },
  {
   "cell_type": "code",
   "execution_count": 70,
   "metadata": {},
   "outputs": [
    {
     "name": "stderr",
     "output_type": "stream",
     "text": [
      "C:\\Users\\Ravi\\Anaconda2\\lib\\site-packages\\ipykernel_launcher.py:4: DataConversionWarning: A column-vector y was passed when a 1d array was expected. Please change the shape of y to (n_samples,), for example using ravel().\n",
      "  after removing the cwd from sys.path.\n"
     ]
    },
    {
     "data": {
      "text/plain": [
       "RandomForestRegressor(bootstrap=True, criterion='mse', max_depth=None,\n",
       "           max_features='auto', max_leaf_nodes=None,\n",
       "           min_impurity_split=1e-07, min_samples_leaf=1,\n",
       "           min_samples_split=2, min_weight_fraction_leaf=0.0,\n",
       "           n_estimators=10, n_jobs=1, oob_score=False, random_state=7,\n",
       "           verbose=0, warm_start=False)"
      ]
     },
     "execution_count": 70,
     "metadata": {},
     "output_type": "execute_result"
    }
   ],
   "source": [
    "from IPython.display import FileLink\n",
    "\n",
    "forest_reg = RandomForestRegressor(random_state=7)\n",
    "forest_reg.fit(X_train, y)\n"
   ]
  },
  {
   "cell_type": "code",
   "execution_count": 71,
   "metadata": {},
   "outputs": [
    {
     "data": {
      "text/html": [
       "<a href='sub_returns.csv' target='_blank'>sub_returns.csv</a><br>"
      ],
      "text/plain": [
       "C:\\Users\\Ravi\\Documents\\Python\\PredictAnnualReturns\\sub_returns.csv"
      ]
     },
     "execution_count": 71,
     "metadata": {},
     "output_type": "execute_result"
    }
   ],
   "source": [
    "preds = forest_reg.predict(X_test)\n",
    "\n",
    "sub = pd.DataFrame({'portfolio_id': port_test_df[\"portfolio_id\"], 'return': preds})\n",
    "filename = 'sub_returns.csv'\n",
    "sub.to_csv(filename, index=False)\n",
    "FileLink(filename)  # lb 0.94277"
   ]
  },
  {
   "cell_type": "code",
   "execution_count": 72,
   "metadata": {
    "collapsed": true
   },
   "outputs": [],
   "source": [
    "#apply decision tree with gridsearch"
   ]
  },
  {
   "cell_type": "code",
   "execution_count": 73,
   "metadata": {},
   "outputs": [
    {
     "name": "stderr",
     "output_type": "stream",
     "text": [
      "C:\\Users\\Ravi\\Anaconda2\\lib\\site-packages\\sklearn\\cross_validation.py:44: DeprecationWarning: This module was deprecated in version 0.18 in favor of the model_selection module into which all the refactored classes and functions are moved. Also note that the interface of the new CV iterators are different from that of this module. This module will be removed in 0.20.\n",
      "  \"This module will be removed in 0.20.\", DeprecationWarning)\n",
      "C:\\Users\\Ravi\\Anaconda2\\lib\\site-packages\\sklearn\\grid_search.py:43: DeprecationWarning: This module was deprecated in version 0.18 in favor of the model_selection module into which all the refactored classes and functions are moved. This module will be removed in 0.20.\n",
      "  DeprecationWarning)\n"
     ]
    }
   ],
   "source": [
    "from sklearn.grid_search import GridSearchCV\n",
    "from operator import itemgetter #get the item from tuple record "
   ]
  },
  {
   "cell_type": "code",
   "execution_count": 90,
   "metadata": {
    "collapsed": true
   },
   "outputs": [],
   "source": [
    "# set of parameters to test\n",
    "param_grid = {\"min_samples_split\": [2, 10, 20],\n",
    "              \"max_depth\": [None, 2, 5, 10],\n",
    "              \"min_samples_leaf\": [2, 5, 7],\n",
    "              \"max_leaf_nodes\": [None, 5, 10, 20],\n",
    "              }"
   ]
  },
  {
   "cell_type": "code",
   "execution_count": 91,
   "metadata": {},
   "outputs": [],
   "source": [
    "from sklearn.tree import DecisionTreeRegressor\n",
    "\n",
    "dt_model = DecisionTreeRegressor(max_depth = 5,min_samples_leaf=5)\n"
   ]
  },
  {
   "cell_type": "code",
   "execution_count": 92,
   "metadata": {},
   "outputs": [
    {
     "name": "stdout",
     "output_type": "stream",
     "text": [
      "0.58814641616\n"
     ]
    }
   ],
   "source": [
    "from sklearn import model_selection\n",
    "from sklearn.ensemble import BaggingRegressor\n",
    "kfold = model_selection.KFold(n_splits=10, random_state=7)\n",
    "\n",
    "bs_dt_model = BaggingRegressor(base_estimator=dt_model, n_estimators=100, random_state=7)\n",
    "results = model_selection.cross_val_score(bs_dt_model, X_train, y, cv=kfold)\n",
    "print(results.mean())"
   ]
  },
  {
   "cell_type": "code",
   "execution_count": 94,
   "metadata": {},
   "outputs": [
    {
     "data": {
      "text/html": [
       "<a href='sub_returns.csv' target='_blank'>sub_returns.csv</a><br>"
      ],
      "text/plain": [
       "C:\\Users\\Ravi\\Documents\\Python\\PredictAnnualReturns\\sub_returns.csv"
      ]
     },
     "execution_count": 94,
     "metadata": {},
     "output_type": "execute_result"
    }
   ],
   "source": [
    "bs_dt_model.fit(X_train,y)\n",
    "preds = bs_dt_model.predict(X_test)\n",
    "\n",
    "sub = pd.DataFrame({'portfolio_id': port_test_df[\"portfolio_id\"], 'return': preds})\n",
    "filename = 'sub_returns.csv'\n",
    "sub.to_csv(filename, index=False)\n",
    "FileLink(filename)  # lb 0.94277"
   ]
  },
  {
   "cell_type": "code",
   "execution_count": 95,
   "metadata": {
    "collapsed": true
   },
   "outputs": [],
   "source": [
    "dt_grid = DecisionTreeRegressor()"
   ]
  },
  {
   "cell_type": "code",
   "execution_count": 96,
   "metadata": {
    "collapsed": true
   },
   "outputs": [],
   "source": [
    " gs_dt = GridSearchCV(dt_grid,\n",
    "                               param_grid=param_grid,\n",
    "                               cv=10)"
   ]
  },
  {
   "cell_type": "code",
   "execution_count": 97,
   "metadata": {},
   "outputs": [
    {
     "data": {
      "text/plain": [
       "GridSearchCV(cv=10, error_score='raise',\n",
       "       estimator=DecisionTreeRegressor(criterion='mse', max_depth=None, max_features=None,\n",
       "           max_leaf_nodes=None, min_impurity_split=1e-07,\n",
       "           min_samples_leaf=1, min_samples_split=2,\n",
       "           min_weight_fraction_leaf=0.0, presort=False, random_state=None,\n",
       "           splitter='best'),\n",
       "       fit_params={}, iid=True, n_jobs=1,\n",
       "       param_grid={'min_samples_split': [2, 10, 20], 'max_leaf_nodes': [None, 5, 10, 20], 'max_depth': [None, 2, 5, 10], 'min_samples_leaf': [2, 5, 7]},\n",
       "       pre_dispatch='2*n_jobs', refit=True, scoring=None, verbose=0)"
      ]
     },
     "execution_count": 97,
     "metadata": {},
     "output_type": "execute_result"
    }
   ],
   "source": [
    "gs_dt.fit(X_train, y)"
   ]
  },
  {
   "cell_type": "code",
   "execution_count": 99,
   "metadata": {},
   "outputs": [
    {
     "name": "stdout",
     "output_type": "stream",
     "text": [
      "Model Rank: 1\n",
      "Mean validation score: 0.595 (std: 0.549)\n",
      "Parameters: {'min_samples_split': 20, 'max_leaf_nodes': None, 'max_depth': None, 'min_samples_leaf': 5}\n",
      "\n",
      "Model Rank: 2\n",
      "Mean validation score: 0.588 (std: 0.545)\n",
      "Parameters: {'min_samples_split': 20, 'max_leaf_nodes': None, 'max_depth': 10, 'min_samples_leaf': 5}\n",
      "\n",
      "Model Rank: 3\n",
      "Mean validation score: 0.582 (std: 0.547)\n",
      "Parameters: {'min_samples_split': 2, 'max_leaf_nodes': None, 'max_depth': None, 'min_samples_leaf': 7}\n",
      "\n"
     ]
    }
   ],
   "source": [
    "#print the max scores from the gird search\n",
    "\n",
    "#sort the score based on the performance of the model\n",
    "max_scores = sorted(gs_dt.grid_scores_,\n",
    "                        key=itemgetter(1),\n",
    "                        reverse=True)[:3]\n",
    "\n",
    "#print the parameter of respective performance\n",
    "for i, score in enumerate(max_scores):\n",
    "        print(\"Model Rank: {0}\".format(i + 1))\n",
    "        print((\"Mean validation score: \"\n",
    "               \"{0:.3f} (std: {1:.3f})\").format(\n",
    "               score.mean_validation_score,\n",
    "               np.std(score.cv_validation_scores)))\n",
    "        print(\"Parameters: {0}\".format(score.parameters))\n",
    "        print(\"\")"
   ]
  },
  {
   "cell_type": "code",
   "execution_count": 100,
   "metadata": {
    "collapsed": true
   },
   "outputs": [],
   "source": [
    "#based on gridsearch \n",
    "dt_model = DecisionTreeRegressor(min_samples_split = 5,min_samples_leaf=5)\n"
   ]
  },
  {
   "cell_type": "code",
   "execution_count": 101,
   "metadata": {},
   "outputs": [
    {
     "data": {
      "text/plain": [
       "DecisionTreeRegressor(criterion='mse', max_depth=None, max_features=None,\n",
       "           max_leaf_nodes=None, min_impurity_split=1e-07,\n",
       "           min_samples_leaf=5, min_samples_split=5,\n",
       "           min_weight_fraction_leaf=0.0, presort=False, random_state=None,\n",
       "           splitter='best')"
      ]
     },
     "execution_count": 101,
     "metadata": {},
     "output_type": "execute_result"
    }
   ],
   "source": [
    "dt_model.fit(X_train,y)"
   ]
  },
  {
   "cell_type": "code",
   "execution_count": 102,
   "metadata": {},
   "outputs": [
    {
     "data": {
      "text/html": [
       "<a href='sub_returns.csv' target='_blank'>sub_returns.csv</a><br>"
      ],
      "text/plain": [
       "C:\\Users\\Ravi\\Documents\\Python\\PredictAnnualReturns\\sub_returns.csv"
      ]
     },
     "execution_count": 102,
     "metadata": {},
     "output_type": "execute_result"
    }
   ],
   "source": [
    "dt_model.fit(X_train,y)\n",
    "preds = bs_dt_model.predict(X_test)\n",
    "\n",
    "sub = pd.DataFrame({'portfolio_id': port_test_df[\"portfolio_id\"], 'return': preds})\n",
    "filename = 'sub_returns.csv'\n",
    "sub.to_csv(filename, index=False)\n",
    "FileLink(filename)  # lb 0.94277"
   ]
  },
  {
   "cell_type": "code",
   "execution_count": null,
   "metadata": {
    "collapsed": true
   },
   "outputs": [],
   "source": []
  }
 ],
 "metadata": {
  "kernelspec": {
   "display_name": "Python 2",
   "language": "python",
   "name": "python2"
  },
  "language_info": {
   "codemirror_mode": {
    "name": "ipython",
    "version": 2
   },
   "file_extension": ".py",
   "mimetype": "text/x-python",
   "name": "python",
   "nbconvert_exporter": "python",
   "pygments_lexer": "ipython2",
   "version": "2.7.13"
  }
 },
 "nbformat": 4,
 "nbformat_minor": 2
}
