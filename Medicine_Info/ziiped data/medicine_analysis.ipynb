{
 "cells": [
  {
   "cell_type": "code",
   "execution_count": 1,
   "metadata": {
    "collapsed": true
   },
   "outputs": [],
   "source": [
    "import pandas as pd"
   ]
  },
  {
   "cell_type": "code",
   "execution_count": 2,
   "metadata": {
    "collapsed": true
   },
   "outputs": [],
   "source": [
    "train_text_df = pd.read_csv('training_text', sep=\"\\|\\|\", engine='python', header=None, skiprows=1, names=[\"ID\",\"Text\"])"
   ]
  },
  {
   "cell_type": "code",
   "execution_count": null,
   "metadata": {},
   "outputs": [],
   "source": [
    "train_text_df.head(2)"
   ]
  },
  {
   "cell_type": "code",
   "execution_count": 4,
   "metadata": {},
   "outputs": [
    {
     "data": {
      "text/plain": [
       "(3321, 2)"
      ]
     },
     "execution_count": 4,
     "metadata": {},
     "output_type": "execute_result"
    }
   ],
   "source": [
    "train_text_df.shape"
   ]
  },
  {
   "cell_type": "code",
   "execution_count": 5,
   "metadata": {
    "collapsed": true
   },
   "outputs": [],
   "source": [
    "#read variant data"
   ]
  },
  {
   "cell_type": "code",
   "execution_count": 6,
   "metadata": {
    "collapsed": true
   },
   "outputs": [],
   "source": [
    "train_var_df = pd.read_csv('training_variants', engine='python', header=None, skiprows=1, names=[\"ID\",\"Gene\",\"Variation\",\"Class\"])"
   ]
  },
  {
   "cell_type": "code",
   "execution_count": 7,
   "metadata": {},
   "outputs": [
    {
     "data": {
      "text/html": [
       "<div>\n",
       "<style>\n",
       "    .dataframe thead tr:only-child th {\n",
       "        text-align: right;\n",
       "    }\n",
       "\n",
       "    .dataframe thead th {\n",
       "        text-align: left;\n",
       "    }\n",
       "\n",
       "    .dataframe tbody tr th {\n",
       "        vertical-align: top;\n",
       "    }\n",
       "</style>\n",
       "<table border=\"1\" class=\"dataframe\">\n",
       "  <thead>\n",
       "    <tr style=\"text-align: right;\">\n",
       "      <th></th>\n",
       "      <th>ID</th>\n",
       "      <th>Gene</th>\n",
       "      <th>Variation</th>\n",
       "      <th>Class</th>\n",
       "    </tr>\n",
       "  </thead>\n",
       "  <tbody>\n",
       "    <tr>\n",
       "      <th>0</th>\n",
       "      <td>0</td>\n",
       "      <td>FAM58A</td>\n",
       "      <td>Truncating Mutations</td>\n",
       "      <td>1</td>\n",
       "    </tr>\n",
       "    <tr>\n",
       "      <th>1</th>\n",
       "      <td>1</td>\n",
       "      <td>CBL</td>\n",
       "      <td>W802*</td>\n",
       "      <td>2</td>\n",
       "    </tr>\n",
       "  </tbody>\n",
       "</table>\n",
       "</div>"
      ],
      "text/plain": [
       "   ID    Gene             Variation  Class\n",
       "0   0  FAM58A  Truncating Mutations      1\n",
       "1   1     CBL                 W802*      2"
      ]
     },
     "execution_count": 7,
     "metadata": {},
     "output_type": "execute_result"
    }
   ],
   "source": [
    "train_var_df.head(2)\n"
   ]
  },
  {
   "cell_type": "code",
   "execution_count": 8,
   "metadata": {},
   "outputs": [
    {
     "data": {
      "text/plain": [
       "(3321, 2)"
      ]
     },
     "execution_count": 8,
     "metadata": {},
     "output_type": "execute_result"
    }
   ],
   "source": [
    "train_text_df.shape"
   ]
  },
  {
   "cell_type": "code",
   "execution_count": 9,
   "metadata": {
    "collapsed": true
   },
   "outputs": [],
   "source": [
    "import matplotlib.pyplot as plt\n"
   ]
  },
  {
   "cell_type": "code",
   "execution_count": 10,
   "metadata": {
    "collapsed": true
   },
   "outputs": [],
   "source": [
    " import numpy  as np"
   ]
  },
  {
   "cell_type": "code",
   "execution_count": 11,
   "metadata": {},
   "outputs": [
    {
     "data": {
      "text/plain": [
       "(array([ 568.,  452.,   89.,  686.,  242.,  275.,  953.,   56.]),\n",
       " array([1, 2, 3, 4, 5, 6, 7, 8, 9], dtype=int64),\n",
       " <a list of 8 Patch objects>)"
      ]
     },
     "execution_count": 11,
     "metadata": {},
     "output_type": "execute_result"
    }
   ],
   "source": [
    "plt.hist(train_var_df[\"Class\"], bins=np.arange(train_var_df[\"Class\"].min(), train_var_df[\"Class\"].max()+1),align='left')"
   ]
  },
  {
   "cell_type": "code",
   "execution_count": 12,
   "metadata": {},
   "outputs": [
    {
     "data": {
      "image/png": "[encoded data removed]",
      "text/plain": [
       "<matplotlib.figure.Figure at 0xbbcf4a8>"
      ]
     },
     "metadata": {},
     "output_type": "display_data"
    }
   ],
   "source": [
    "plt.show()"
   ]
  },
  {
   "cell_type": "code",
   "execution_count": 13,
   "metadata": {
    "collapsed": true
   },
   "outputs": [],
   "source": [
    "#from the above looks like most frequently occurence cancer  of class 7"
   ]
  },
  {
   "cell_type": "code",
   "execution_count": 14,
   "metadata": {
    "collapsed": true
   },
   "outputs": [],
   "source": [
    "#merge variant text and text df "
   ]
  },
  {
   "cell_type": "code",
   "execution_count": 15,
   "metadata": {
    "collapsed": true
   },
   "outputs": [],
   "source": [
    "train_df=train_text_df.merge( train_var_df, on='ID', how='inner') #taken inner as on join it includes the common rows between of because either of one is missing information will not be relevant"
   ]
  },
  {
   "cell_type": "code",
   "execution_count": 16,
   "metadata": {},
   "outputs": [
    {
     "name": "stdout",
     "output_type": "stream",
     "text": [
      "Index([u'ID', u'Text', u'Gene', u'Variation', u'Class'], dtype='object')\n"
     ]
    }
   ],
   "source": [
    "print train_df.columns"
   ]
  },
  {
   "cell_type": "code",
   "execution_count": 17,
   "metadata": {
    "collapsed": true
   },
   "outputs": [],
   "source": [
    "#above data is having five column "
   ]
  },
  {
   "cell_type": "code",
   "execution_count": 18,
   "metadata": {
    "collapsed": true
   },
   "outputs": [],
   "source": [
    "#can not see any punctuation so not removing that "
   ]
  },
  {
   "cell_type": "code",
   "execution_count": 19,
   "metadata": {
    "collapsed": true
   },
   "outputs": [],
   "source": [
    "#Remotrain_dfve stop words "
   ]
  },
  {
   "cell_type": "code",
   "execution_count": 20,
   "metadata": {
    "collapsed": true
   },
   "outputs": [],
   "source": [
    "from nltk.corpus import stopwords"
   ]
  },
  {
   "cell_type": "code",
   "execution_count": 21,
   "metadata": {
    "collapsed": true
   },
   "outputs": [],
   "source": [
    "no_of_lines=train_df[\"Text\"].size  #it shound be 3321"
   ]
  },
  {
   "cell_type": "code",
   "execution_count": 22,
   "metadata": {
    "collapsed": true
   },
   "outputs": [],
   "source": [
    "text=train_df[\"Text\"]"
   ]
  },
  {
   "cell_type": "code",
   "execution_count": 23,
   "metadata": {},
   "outputs": [
    {
     "name": "stdout",
     "output_type": "stream",
     "text": [
      "3321\n"
     ]
    }
   ],
   "source": [
    "print text.size"
   ]
  },
  {
   "cell_type": "code",
   "execution_count": 24,
   "metadata": {
    "collapsed": true
   },
   "outputs": [],
   "source": [
    "proc_text=[]"
   ]
  },
  {
   "cell_type": "code",
   "execution_count": 25,
   "metadata": {
    "collapsed": true
   },
   "outputs": [],
   "source": [
    " stops = set(stopwords.words(\"english\"))"
   ]
  },
  {
   "cell_type": "code",
   "execution_count": 26,
   "metadata": {},
   "outputs": [
    {
     "name": "stdout",
     "output_type": "stream",
     "text": [
      "set([u'all', u'just', u'being', u'over', u'both', u'through', u'yourselves', u'its', u'before', u'o', u'hadn', u'herself', u'll', u'had', u'should', u'to', u'only', u'won', u'under', u'ours', u'has', u'do', u'them', u'his', u'very', u'they', u'not', u'during', u'now', u'him', u'nor', u'd', u'did', u'didn', u'this', u'she', u'each', u'further', u'where', u'few', u'because', u'doing', u'some', u'hasn', u'are', u'our', u'ourselves', u'out', u'what', u'for', u'while', u're', u'does', u'above', u'between', u'mustn', u't', u'be', u'we', u'who', u'were', u'here', u'shouldn', u'hers', u'by', u'on', u'about', u'couldn', u'of', u'against', u's', u'isn', u'or', u'own', u'into', u'yourself', u'down', u'mightn', u'wasn', u'your', u'from', u'her', u'their', u'aren', u'there', u'been', u'whom', u'too', u'wouldn', u'themselves', u'weren', u'was', u'until', u'more', u'himself', u'that', u'but', u'don', u'with', u'than', u'those', u'he', u'me', u'myself', u'ma', u'these', u'up', u'will', u'below', u'ain', u'can', u'theirs', u'my', u'and', u've', u'then', u'is', u'am', u'it', u'doesn', u'an', u'as', u'itself', u'at', u'have', u'in', u'any', u'if', u'again', u'no', u'when', u'same', u'how', u'other', u'which', u'you', u'shan', u'needn', u'haven', u'after', u'most', u'such', u'why', u'a', u'off', u'i', u'm', u'yours', u'so', u'y', u'the', u'having', u'once'])\n"
     ]
    }
   ],
   "source": [
    "print stops  #just to take a glipmse of stop  words"
   ]
  },
  {
   "cell_type": "code",
   "execution_count": 27,
   "metadata": {
    "collapsed": true
   },
   "outputs": [],
   "source": [
    "for i in xrange( 0, no_of_lines):\n",
    "        words = text[i].lower().split() # split based on space \n",
    "        words = [w.lower() for w in words if not w in stops]   # remove the stop words\n",
    "        proc_text.append(\" \".join(words))"
   ]
  },
  {
   "cell_type": "code",
   "execution_count": 28,
   "metadata": {},
   "outputs": [
    {
     "name": "stdout",
     "output_type": "stream",
     "text": [
      "recent evidence demonstrated acquired uniparental disomy (aupd) novel mechanism pathogenetic mutations cancer may reduced homozygosity. help identify novel mutations myeloproliferative neoplasms (mpns), performed genome-wide single nucleotide polymorphism (snp) screen identify aupd 58 patients atypical chronic myeloid leukemia (acml; n = 30), jak2 mutation–negative myelofibrosis (mf; n = 18), jak2 mutation–negative polycythemia vera (pv; n = 10). stretches homozygous, copy neutral snp calls greater 20mb seen 10 (33%) acml 1 (6%) mf, absent pv. total, 7 different chromosomes involved 7q 11q affected 10% acml cases. cbl mutations identified 3 cases 11q aupd analysis 574 additional mpns revealed total 27 cbl variants 26 patients acml, myelofibrosis chronic myelomonocytic leukemia. variants missense substitutions ring linker domains abrogated cbl ubiquitin ligase activity conferred proliferative advantage 32d cells overexpressing flt3. conclude acquired, transforming cbl mutations novel widespread pathogenetic abnormality morphologically related, clinically aggressive mpns. introduction myeloproliferative neoplasms (mpns) clonal hematopoietic stem cell disorders characterized overproliferation one myeloid cell lineages bone marrow increased numbers mature immature myeloid cells peripheral blood. excess proliferation frequently associated splenomegaly cardiovascular complications well increased risk transformation acute leukemia. mpns categorized subtypes based specific morphologic, hematologic, laboratory parameters, best characterized 4 so-called classic mpns: polycythemia vera (pv), essential thrombocythemia (et), primary myelofibrosis (mf), chronic myeloid leukemia (cml).1 addition, several atypical mpns recognized, show dysplastic proliferative features, atypical, bcr-abl negative cml (acml).2 mpns associated acquired, activating mutations gene fusions tyrosine kinases, abnormalities believed critical drivers excess proliferation result deregulated constitutive signaling.3 2 prominent examples bcr-abl cml4 v617f jak2 mutation pv, et, mf,5⇓⇓–8 40 variant tyrosine kinase fusions identified mpns well mutations jak2 flt3.2 activating mutations described components signal upstream (eg, mpl) downstream (eg, nras) tyrosine kinases9,10; however, molecular pathogenesis majority atypical mpns approximately 50% et mf cases remains obscure. v617f jak2 initially identified several different routes, one based observation many pv patients show evidence acquired uniparental disomy (aupd) chromosome 9p.11,12 regions aupd exhibit loss heterozygosity (loh) compared constitutional dna without change copy number arise mitotic recombination followed selection one products. initial observations pv, emerged aupd common hematologic epithelial malignancies, associated known oncogenic changes variety genes within affected regions.13 study set determine whether aupd characterizes mpns unknown molecular etiology and, so, whether could used tool help identify novel driver mutations. methods patients peripheral blood bone marrow samples received patients diagnosed mpn hematologic malignancy according standard morphologic, hematologic, laboratory criteria. clinical data available subset cases. study approved internal review boards participating institutions informed consent obtained accordance declaration helsinki. snp array analysis dna labeling hybridization affymetrix 50k xbai chips performed deutsches ressourcenzentrum für genomforschung (rzpd, berlin, germany). raw data imported affymetrix genechip operating software, analyzed using affymetrix (high wycombe, united kingdom) genechip genotyping analysis software (gtype 4.1) copy number analysis tool (cnat). data exported custom-designed spreadsheets display loss heterozygosity copy number changes ideogram format. data also analyzed using affymetrix genotyping console (version 2.1). overall, median 98.2% (range, 91.5%-99.6%) snps gave readable calls. mutation analysis detection mutations high resolution melting (hrm) analysis performed described14 using rotor-gene 6000 (corbett life sciences, st neots, united kingdom). direct sequencing polymerase chain reaction (pcr) products performed standard techniques abi 3130 genetic analyzer (applied biosystems, warrington, united kingdom) analyzed using mutation surveyor (softgenetics, state college, pa). cbl mutations numbered relative atg (a = 1) ensembl cdna sequence ensg00000110395. dropping factor (relative intensity drop wild-type allele peak relative seen concurrently run normal sample) 60% considered indicative biallelic mutation whereas dropping factor less 60% considered monoallelic. primer sequences cbl exon 8 cbl_i7f (5′-tgtggtttcactttaaaccctgga-3′) cbl_i8r (5′-gccaggccaccccttgtatc-3′) cbl exon 9 cbl_i8f (5′-ggcctggcttttgggttagg-3′) cbl_i9r (5′-cacaatggattttgccagtctcc-3′). cbl reverse-transcriptase pcr (rt-pcr) performed random hexamer–reverse transcribed rna using primers cble7f: 5′-gaatcctgatctgactggcttatg-3′ cble10r 5′-gctgcggcagaaggtcaagt-3′. primer sequences available request. microsatellite analysis dna samples amplified series fluorescently labeled primer pairs flanking highly polymorphic microsatellite markers chromosome 11q described.10 aupd scored 4 consecutive markers encompassing cbl homozygous without change allelic copy number (p < .05 occurring absence aupd based published rates heterozygosity). copy number 11q estimated multiplex ligation probe amplification (mlpa) using marfan probeset 1 (p065; mrc holland, amsterdam, netherlands), kit contains four 11q control probes including one 11q23.3. constructs pmy-wtcbl pmy-cblr420q express wild-type r420q cbl, respectively, along green fluorescent protein (gfp).15 cbl mutant constructs derived pmy-wtcbl using quikchange site-directed mutagenesis kit (stratagene, la jolla, ca). pal/flt3 pcmv–ha ubiquitin also described previously.15 cell lines il-3–dependent murine myeloid cell 32dcl3 (32d) purchased deutsche sammlung von mikroorganismen und zellkulturen (braunschweig, germany) maintained 90% rpmi 1640 medium 10% fetal bovine serum (fbs) 10% wehi-3b conditioned medium (wehi). cells maintained humidified incubator 37°c 5% carbon dioxide. 32d cells stably transduced electroporation wt-flt3 pal vector previously described16 maintained 15 ng/ml blastocidin (invitrogen, paisley united kingdom). platinum-e (plat-e) retrovirus packaging cell line17 transfected using calcium phosphate method 5 μg cbl construct dna: 106 32d/wtflt3 cells cocultivated plat-e cells 48 hours volume 2 ml (50% rpmi, 50% dmem, 10% fbs, 5% wehi). gfp positive cells flow sorted highest possible purity using bd facsaria cell sorter (becton dickinson, stanford, ca). insufficient cells obtained experiments flow sorting, cells maintained culture resorted greater 95% purity. growth factor withdrawal assays cell growth compared wt-flt3, vector-only transfected cells parental 32d line stably transfected cells. cells (105/ml) grown 3 days triplicate cbl mutant wt-cbl control 96-well plates. cultures analyzed daily proliferation using aqueous one solution cell proliferation assay kit (mts assay; promega, southampton, united kingdom). experiments performed least 3 times independently results analyzed using graphpad prism 4 software (graphpad software, san diego, ca). ubiquitin ligase activity ubiquitin ligase activity cbl mutants comparison wild-type cbl determined transiently transfecting 107 32d/wtflt3 cells expressing wild-type cbl mutants electroporation 20 μg pcmv-ha ubiquitin. cells maintained culture wehi 12 hours transfection washed, serum deprived overnight, exposed flt3 ligand 10 minutes, lysed buffer described.18 lysates incubated flt3-specific polyclonal antibody overnight 4°c. protein g agarose beads (100 μl) added incubated 4°c 4 hours. beads washed 4 times ice-cold radioimmunoprecipitation assay (ripa) lysis buffer. supernatant mixed sodium dodecyl sulphate (sds) sample loading buffer immunoblot analyses antibodies ha-ubiquitin (sc-805; santa cruz biotechnology, santa cruz, ca), cbl (2111c3a; abcam, cambridge, united kingdom), flt3 (sc-479; cell signaling technology, danvers, ma). results snp array analysis performed genome-wide snp analysis leukocyte dna extracted 58 mpd patients: acml (n = 30), v617f jak2 negative mf (n = 18), jak2 mutation negative pv/idiopathic erythrocytosis (n = 10). comparators, also analyzed cases cml transformation blast crisis (n = 30, 20 myeloid 10 lymphoid) chronic lymphocytic leukemia (cll; n = 20). conservatively defined likely regions aupd least 20 mb absent significantly reduced heterozygous snp calls (ie, < 5% snps called heterozygous) running telomere without change copy number (figure 1a). large regions uncommon healthy individuals.19 strikingly, found aupd common acml 10 (33%) cases affected. contrast, aupd seen single case mf seen patient subgroups. total, 7 different chromosomes affected, abnormalities 7q 11q seen recurrently 10% acml cases. affected regions ranged size 29 mb complete copy chromosome 13 (table 1). figure 1 download figureopen new tabdownload powerpoint figure 1 single nucleotide polymorphism array results initial mutation analysis. (a) array analysis 2 control patients showing copy number (cn) loss heterozygosity (loh) outputs. x-axis cn plots show (copy number)−2 determined cnat, values approaching exceeding −1 indicating deletions greater +1 indicating amplifications. x-axis loh shows log10 p values (ie, 20 indicates 10−20). 2 panels left polycythemia vera (pv) case homozygous v617f jak2 mutation. gross copy number change (individual datapoints spread around zero line), large block homozygous snp calls 9p indicative aupd. 2 panels right chronic myeloid leukemia (cml) blast crisis case show loh accompanied 20q deletion. (b) case upn 5, large block 11q aupd apparent analysis granulocytes almost completely absent mononuclear cells (mncs) extracted sample. (c) chromosome 1p aupd case upn 27 associated biallelic g>t mpl mutation predicted result w515l substitution. (d) whole chromosome 13 isodisomy case upn 28 associated homozygous flt3 itd. two controls shown: acute myeloid leukemia (aml) patient previously known heterozygous flt3 itd healthy individual. view inlineview popup table 1 chromosomal regions cases affected aupd association aupd known acquired oncogenic mutations although constitutional dna formally confirm regions homozygosity acquired, 1 individual found marked reduction proportion 11q aupd positive cells comparison mononuclear cells granulocytes, consistent acquired abnormality (figure 1b). affected regions harbor genes known relevant hematologic malignancies therefore assessed mutational status. sequencing mpl gene case upn 27 1p aupd revealed homozygous g>t change (figure 1c) results previously reported w515l substitution.9 case upn 28 whole chromosome 13 upd homozygous flt3 internal tandem duplication (itd; figure 1d). candidate genes abnormalities 17q 21q include nf1 runx1, respectively; however, investigated. 11q aupd associated cbl mutations next, focused analysis 2 recurrent regions aupd 7q 11q. strong association mpns aberrant tyrosine kinase signaling, analyzed genes encoding tyrosine kinases associated signaling components. minimally affected region chromosome 7q contains 3 tyrosine kinases: met, epha1, ephb6. fully sequenced coding exons genes 3 cases 7q aupd 2 normal controls found abnormalities. similarly, found sequence changes exons 11 17 braf, gene encoding downstream component ras signaling mutated malignant melanoma cancers.20 tyrosine kinase genes chromosome 11q, although several genes encoding signal transduction components, cbl stood known oncogene negatively regulates tyrosine kinase signaling.21 sequencing cbl three 11q aupd cases revealed upn 2 upn 5 t>c change nucleotide 1277 exon 8 predicts l380p substitution. case upn 3 c>g missense change exon 9 nucleotide 1387 predicts p417a change (figure 2). consistent array results, mutations cases upn 3 upn 5 predominant residual wild-type alleles weakly visible. case upn 2 mutation level aupd less prominent, presumably due greater background normal cells. figure 2 download figureopen new tabdownload powerpoint figure 2 cbl mutations 3 cases 11q aupd. (a) genotyping console output indicating homozygous snp calls green, copy number state estimated hidden markov model blue, smoothed copy number log(2) ratio values red. (b) ideograms showing lack large copy number changes blocks homozygosity 11q. abbreviations figure 1. (c) sequence changes indicated ↓ case compared normal controls. upn 2 upn 5 c.1139t>c: l380p mutation whereas upn 3 c.1249c>g: p417a. prevalence nature cbl mutations determine prevalence cbl mutations, sequenced exons 8 9 (that encode amino acids 366 409 410 477, respectively) additional 574 mpn cases. total 27 sequence variants identified 26 patients, 3 mf, 10 chronic myelomonocytic leukemia (cmml), 12 acml 1 hypereosinophilic syndrome/chronic eosinophilic leukemia (hes/cel; tables 2 3). ensure missing mutations elsewhere gene analyzed coding exons 70 cbl mutation negative acml unclassified, cml-like mpn cases high resolution melt (hrm) analysis failed detect sequence changes apart known polymorphisms. similarly, mutations cblb exons 9 10 cblc exons 7 8 (the exons correspond cbl exons 8 9) identified. activity bcr-abl known increase progression cml chronic phase blast crisis22 speculated abrogation cbl activity might least partially responsible increase. hrm analysis cbl exons 8 9 blast crisis cases (n = 31), however, failed reveal mutations. view inlineview popup table 2 cases analyzed cbl mutations view inlineview popup table 3 list cbl sequence variants 27 cbl variants, 21 (78%) missense substitutions affecting 12 amino acids (15 different substitutions), 5 (19%) candidate splicing abnormalities, 1 (3%) produced stop codon (table 3). changes novel, although 4 cases r420q previously identified single case aml.15 apart n454d, residues affected missense mutations completely conserved cbl orthologues well 2 human cbl family members (figure 3). mutation stop codon found patient (upn 9) also y371h variant; pcr across affected regions sequencing indicated 2 changes different alleles. figure 3 download figureopen new tabdownload powerpoint figure 3 location missense mutations. (top panel) schematic representation cbl protein showing tyrosine kinase binding (tkb), linker, ring, proline-rich (p-rich), ubiquitin-associated/leucine zipper (uba/lz) domains. (bottom panel) clustalw alignment entire linker ring domains plus part distal sequence. ring domain shaded gray defining c h residues shaded pale blue. residues affected missense mutations found study indicated ▼. cbl mutations acquired rarely seen conjunction known mutations 2 cases (upn 5 upn 14) able compare mutational status leukocytes cells buccal epithelia cells. cases l380p mutation present leukocytes therefore acquired (figure 4a). third case (upn 15) originally presented v617f jak2 negative et 1989 progressed mf 2004. analysis dna extracted sequential bone marrow slides indicated r420q mutation absent et phase acquired transformation (figure 4b). 3 cbl-positive mf cases tested negative mpl 515 mutations cbl mutation positive cases negative cytogenetic indicators tyrosine kinase fusions, flt3 itd, activating nras mutations v617f jak2, exception 1 case (upn 14) mf tested positive l380p cbl v617f jak2. analysis retrospective bone marrow slides case indicated presence v617f jak2 low level initially absence l380p cbl. cbl mutation detectable 7 years later completely displaced v617f 3 years, corresponding significant rise peripheral leukocyte counts (figure 4c). case (upn 21) presented systemic mastocytosis evolving cbl mutation-positive cmml retrospective samples unavailable. figure 4 download figureopen new tabdownload powerpoint figure 4 acquisition cbl mutations. (a) comparison granulocytes (gran) buccal epithelial cells (bucc) cells (t) demonstrates l380p mutations cases upn 5 14 acquired. (b) sequential leukocyte platelet counts case, presented 1989 essential thrombocythemia (et) progressed myelofibrosis (mf) 2004. homozygous cbl r420q, indicated *, detected transformation undetectable previous specimens. (c) clinical course case upn 14, presented mf 1998 experienced elevated leukocyte counts 2005, concomitant appearance cbl l380p mutation. jak2 v617f mutation, present low level since diagnosis, still detectable cbl l380p first appeared undetectable 2008 sample, cbl mutated clone predominated (* sequence trace). (d) rt-pcr analysis. cases controls show expected product cbl exons 7-10. cases upn 18 upn 20 show smaller bands result complete deletion exon 8. splicing abnormalities rna available 3 5 cases potential splicing mutations. patients upn 18 upn 20 exhibited double bands rt-pcr, sequencing showed one normal product smaller band result complete deletion exon 8 case (figure 4d), similar described cell line molm-13.23 patient upn 19 showed single band rt-pcr entirely normal sequence analysis indicating exon 8+4 c>t change alter splicing. seems likely, therefore, variant identified case upn 6 also consequence. pathogenicity intronic variant seen case upn 13 remains unknown. association cbl mutations upd examine association cbl mutations aupd detail performed microsatellite analysis mutated cases using 9 polymorphic markers spanning chromosome 11q13-qter. 26 cases, 11 displayed patterns indicated significant tracts homozygosity, including 3 11q aupd detected snp arrays. case upn 9 2 mutations heterozygous markers. 11 cases biallelic cbl mutations judged sequence analysis, 5 showed complete homozygosity microsatellite loci tested 6 least 4 consecutive homozygous calls encompassing location cbl gene 11q23.3 (figure 5). performed multiplex ligation probe amplification (mlpa) analysis determine whether observed homozygosity consequence deletion copy number changes detected (data shown) therefore likely homozygosity arose aupd. number mutated alleles estimated sequencing concordant microsatellite analysis 20 cases (figure 5). discordant, upn 6 upn 25 significant tracts 11q homozygosity monoallelic cbl mutation whereas upn 10 upn 16 show 11q homozygosity clear biallelic cbl mutations. reason discrepant cases unclear, possible aupd seen upn 6 upn 25 targeted another gene 11q acquisition cbl mutation. homozygosity cbl mutations absence 11q aupd upn 10 upn 16 might explained subcytogenetic deletion 1 allele. figure 5 download figureopen new tabdownload powerpoint figure 5 microsatellite analysis cbl mutation positive cases. number cbl mutated alleles (1 monoallelic; 2 biallelic) estimated sequence analysis described “experimental procedures.” microsatellites scored homozygous (embedded image) heterozygous (□) case positions chromosome 11q indicated. correlation cbl mutations clinical features compared clinical hematologic features patients without cbl mutations, restricting analysis cases acml, mf cmml subgroups cbl mutations commonly found. patients cbl mutations shorter overall survival progression-free survival compared mutation negative cases (overall survival: 33 months vs 39 months; progression-free survival: 22 months vs 32 months) differences significant (figure 6). similarly significant difference gender distribution, age standard hematologic parameters mutation positive mutation negative cases differences emerged individual disease entities considered. figure 6 download figureopen new tabdownload powerpoint figure 6 clinical significance cbl mutations. overall survival (a) progression-free survival (b) atypical chronic myeloid leukemia (acml), chronic myelomonocytic leukemia (cmml), mf cases (n = 19) without (n = 87) cbl mutations. differences mutation positive negative cases significant determined kaplan-meier analysis. transforming activities cbl mutants determined whether selected cbl variants oncogenic activity testing whether could transform interleukin-3 (il-3)–dependent cell line 32d growth factor independence conjunction overexpression wild-type flt3, described previously r420q.15 found s376f, h398y, p417a, r420q alone conferred degree growth factor independence 32d cells, effect considerably enhanced 32ds overexpressed wild-type flt3. contrast, wild-type cbl conferred growth advantage either without flt3 overexpression. n454d change transforming, indicating probably rare polymorphism pathogenetically unimportant passenger mutation (figure 7). reproducible differences survival different mutants seen, illustrated figure 8a. figure 7 download figureopen new tabdownload powerpoint figure 7 transforming activity cbl mutants. 32d cells 32ds overexpressing wild-type flt3 transfected wild-type mutant cbl constructs assayed il-3 independent growth 3 days. results shown mean least 3 independent experiments, performed triplicate. y-axis shows proliferation arbitrary units determined mts assay (promega) x-axis time days. figure 8 download figureopen new tabdownload powerpoint figure 8 survival abrogation e3 ubiquitin ligase activity. (a) relative survival/proliferation 32d cells expressing wild-type mutant cbl constructs 48 hours growth factor withdrawal determined mts assay. (b) 32d cells expressing wild-type flt3 cbl constructs indicated transfected ha-tagged ubiquitin stimulated flt3 ligand. lysis, flt3 immunoprecipitated, blotted, probed anti-ha. total blots flt3 cbl also shown. abrogation e3 ubiquitin ligase activity shown flt3 physically associates cbl that, upon ligand stimulation, flt3 rapidly ubiquitinylated wild-type r420q cbl.15 found transforming activity correlated directly ubiquitin ligase activity cbl variants, assayed ability transfer ha-tagged ubiquitin flt3 stimulation flt3 ligand. s376f, h398y, p417a r420q mutants showed loss ubiquitin ligase activity, whereas n454d comparable wild-type cbl (figure 8b). discussion initial aim study identify large regions aupd therefore undertook relatively low resolution genome scan using 50k snp arrays. constitutional dna available cases, able unambiguously determine whether extended blocks homozygosity observed consequence aupd, constitutional upd autozygosity due consaguinity, however used conservative definition candidate aupd regions (at least 20 mb homozygous snps calls running telomere) therefore expected would acquired. found aupd relatively common acml, uncommon mpns negative known mutations, plus also cml blast crisis cll. six distinct regions aupd identified acml, indicating substantial genetic heterogeneity genesis disorder. however, identified 2 recurrent regions aupd 7q 11q seen 10% cases indicating presence common molecular abnormalities. mutation screening focused primarily tyrosine kinases associated signal transduction components known association deregulated tyrosine kinase signaling mpns.3 although failed thus far identify abnormality chromosome 7q, found missense cbl mutations three 11q aupd cases. screening mpns revealed total 27 cbl variants 26 patients diagnosed acml (n = 12; 8%), mf (n = 3, 6%), cmml (n = 10, 13%), hes/cel (n = 1, 1%); is, morphologically clinically related diseases generally exhibit poor prognosis. unable discern, however, specific clinical prognostic features specifically associated cbl mutated cases. casitas b-lineage lymphoma (cbl) well characterized protein plays positive negative regulatory roles tyrosine kinase signaling. positive role, cbl binds activated receptor tyrosine kinases via n-terminal tyrosine kinase binding (tkb) domain serves adaptor recruiting downstream signal transduction components shp2 p13k. however ring domain cbl e3 ligase activity ubiquitinylates activated receptor tyrosine kinases lysine residues, signal triggers internalization receptor/ligand complex subsequent recycling degradation.21,24,25 cbl originally identified characterization v-cbl, transforming component cas ns-1 retrovirus, thus association neoplasia well established26; however, recently cbl mutations first identified human malignancy, specifically occasional cases aml.15,23,27 found cbl mutations much common mpns, previous reports 11q aupd mds28 suggest cbl mutations also prove common disease. indeed, 7 12 mds cases aupd 11q recently shown harbor cbl mutations.29 2 human cbl family members, cblb cblc, identify aupd regions containing genes detect mutations linker/ring domain cblb. identified total 15 different cbl missense mutations affecting 12 residues (table 2; figure 3). mutations residues (eg, y371, c381, h398 w408) analyzed previously study concluded loss e3 ubiquitin ligase activity concomitant impairment egfr internalization ring finger mutations insufficient oncogenicity, assayed nih3t3 cells. however mutations key residues within α-helix linker region abolished ubiquitin ligase activity transforming.30 although precise amino acid substitutions identified different studied, found mutations ring finger linker regions conferred autonomous growth 32d/wt-flt3 cells, consistent causal relationship mpn phenotype. fact one mutation (n454d) transforming emphasizes importance functional analysis distinguish driver mutations irrelevant passengers infrequent polymorphisms.31 notably, mutation weakly conserved species, contrast missense mutations affected highly conserved residues therefore likely functionally significant. enhanced autonomous growth presence cbl mutations overexpression wild-type flt3 may simply reflect paucity receptor tyrosine kinase gene expression 32d cells or, alternatively, may indicate mutants weakly transforming require cooperation events give rise clinically manifest disease. consistent latter hypothesis, identified 2 cases cbl mutations acquired progression preexisting mpn (figure 4). cases identity cooperating change unknown: although one presented (relatively low level) v617f jak2 mutation, disappeared progression cbl l380p positive disease, indicating 2 mutations must arisen independently different clones. reminiscent observation leukemic blasts approximately half v617f positive mpns evolve aml negative jak2 mutation.32,33 remains established, however, cbl mutations usually secondary events whether 2 cases identified exceptional. evidence requirement additional cooperating genetic events comes published mouse studies neither complete cbl knockout heterozygous knockin ring finger inactivating mutant c379a (mouse c379 equivalent human c381) resulted evidence mpn malignancy.34,35 however, closer analysis revealed subtle hemopoietic perturbations clearly relate pathogenesis mpns. specifically, hemopoietic stem cells (hscs) animals increased number, hyperresponsive thrombopoietin potent wild-type hscs repopulating hemopoietic system. effects associated increased stat5 accumulation phosphorylation.34,35 hyperresponsiveness growth factors stem cell involvement 2 cardinal features mpns. furthermore, association stat5 activation mpns well documented.36,37 possible overt hematologic disease might induced homozygous knockin mutant, findings suggest cbl mutations may solely responsible full mpn phenotype. nature cooperating abnormalities remains largely obscure. results show overexpression tyrosine kinase cooperate cbl mutants promote transformation, however failed identify kinase consistently overexpressed mutation positive cases tyrosine kinase expression profiling (data shown). one cbl mutation positive case, however, also tested positive 7q upd snp array, suggesting 2 abnormalities may complement other. cbl mutation resulting skipping exon 8 also identified murine model nup98-hoxd13 progression mds aml,38 corroborating theory acute leukemia arises complementary mutations, one inhibits differentiation, second (in case cbl) enhances proliferation inhibits apoptosis. fact many cbl mutations associated aupd strongly suggests clones homozygous mutations selective advantage heterozygous. contrasts prevailing view transforming cbl ring finger linker region mutants act dominant negative fashion. although conceivable another, unknown locus 11q target aupd, finding 1 case y371h mutation stop codon opposite alleles strongly suggests homozygous cbl mutations indeed confer direct selective advantage. screen entire gene mutations, possible cases heterozygous mutations may also functionally homozygous due premature stop codons allele. alternatively, heterozygosity cases may apparent due variable proportions background normal cells part malignant clone. although nontransforming n454d mutant heterozygous, 2 cases heterozygous r420q observed thus absence homozygosity cannot used infer presence irrelevant, nontransforming sequence variant. summary, found oncogenic cbl mutations acquired subset hematologically related, poor prognosis mpns. findings strengthen notion mpns primarily “tyrosine kinopathies,” is, diseases caused aberrant activation proliferation survival pathways consequence mutations either directly indirectly promote excess tyrosine kinase signaling. view fact tyrosine kinases good drug targets, possibility cbl-mutated cases might amenable therapeutic inhibition clearly attractive.\n"
     ]
    }
   ],
   "source": [
    "print proc_text[3] #just to verify"
   ]
  },
  {
   "cell_type": "code",
   "execution_count": 29,
   "metadata": {
    "collapsed": true
   },
   "outputs": [],
   "source": [
    "# stemming"
   ]
  },
  {
   "cell_type": "code",
   "execution_count": 30,
   "metadata": {
    "collapsed": true
   },
   "outputs": [],
   "source": [
    "stem_text=[]"
   ]
  },
  {
   "cell_type": "code",
   "execution_count": 31,
   "metadata": {
    "collapsed": true
   },
   "outputs": [],
   "source": [
    "from nltk.stem import SnowballStemmer"
   ]
  },
  {
   "cell_type": "code",
   "execution_count": 32,
   "metadata": {
    "collapsed": true
   },
   "outputs": [],
   "source": [
    "snowball_stemmer = SnowballStemmer(\"english\")"
   ]
  },
  {
   "cell_type": "code",
   "execution_count": 33,
   "metadata": {
    "collapsed": true
   },
   "outputs": [],
   "source": [
    "for line in proc_text:\n",
    "    word = line.decode('utf-8').split(\" \")\n",
    "    word =[snowball_stemmer.stem(w) for w in word]\n",
    "    stem_text.append(\" \".join(word))\n",
    "    \n",
    "\n",
    "    \n",
    "\n",
    "\n",
    "     \n",
    "    "
   ]
  },
  {
   "cell_type": "code",
   "execution_count": 34,
   "metadata": {},
   "outputs": [
    {
     "name": "stdout",
     "output_type": "stream",
     "text": [
      "recent evid demonstr acquir uniparent disomi (aupd) novel mechan pathogenet mutat cancer may reduc homozygosity. help identifi novel mutat myeloprolif neoplasm (mpns), perform genome-wid singl nucleotid polymorph (snp) screen identifi aupd 58 patient atyp chronic myeloid leukemia (acml; n = 30), jak2 mutation–neg myelofibrosi (mf; n = 18), jak2 mutation–neg polycythemia vera (pv; n = 10). stretch homozygous, copi neutral snp call greater 20mb seen 10 (33%) acml 1 (6%) mf, absent pv. total, 7 differ chromosom involv 7q 11q affect 10% acml cases. cbl mutat identifi 3 case 11q aupd analysi 574 addit mpns reveal total 27 cbl variant 26 patient acml, myelofibrosi chronic myelomonocyt leukemia. variant missens substitut ring linker domain abrog cbl ubiquitin ligas activ confer prolif advantag 32d cell overexpress flt3. conclud acquired, transform cbl mutat novel widespread pathogenet abnorm morpholog related, clinic aggress mpns. introduct myeloprolif neoplasm (mpns) clonal hematopoiet stem cell disord character overprolifer one myeloid cell lineag bone marrow increas number matur immatur myeloid cell peripher blood. excess prolifer frequent associ splenomegali cardiovascular complic well increas risk transform acut leukemia. mpns categor subtyp base specif morphologic, hematologic, laboratori parameters, best character 4 so-cal classic mpns: polycythemia vera (pv), essenti thrombocythemia (et), primari myelofibrosi (mf), chronic myeloid leukemia (cml).1 addition, sever atyp mpns recognized, show dysplast prolif features, atypical, bcr-abl negat cml (acml).2 mpns associ acquired, activ mutat gene fusion tyrosin kinases, abnorm believ critic driver excess prolifer result deregul constitut signaling.3 2 promin exampl bcr-abl cml4 v617f jak2 mutat pv, et, mf,5⇓⇓–8 40 variant tyrosin kinas fusion identifi mpns well mutat jak2 flt3.2 activ mutat describ compon signal upstream (eg, mpl) downstream (eg, nras) tyrosin kinases9,10; however, molecular pathogenesi major atyp mpns approxim 50% et mf case remain obscure. v617f jak2 initi identifi sever differ routes, one base observ mani pv patient show evid acquir uniparent disomi (aupd) chromosom 9p.11,12 region aupd exhibit loss heterozygos (loh) compar constitut dna without chang copi number aris mitot recombin follow select one products. initi observ pv, emerg aupd common hematolog epitheli malignancies, associ known oncogen chang varieti gene within affect regions.13 studi set determin whether aupd character mpns unknown molecular etiolog and, so, whether could use tool help identifi novel driver mutations. method patient peripher blood bone marrow sampl receiv patient diagnos mpn hematolog malign accord standard morphologic, hematologic, laboratori criteria. clinic data avail subset cases. studi approv intern review board particip institut inform consent obtain accord declar helsinki. snp array analysi dna label hybrid affymetrix 50k xbai chip perform deutsch ressourcenzentrum für genomforschung (rzpd, berlin, germany). raw data import affymetrix genechip oper software, analyz use affymetrix (high wycombe, unit kingdom) genechip genotyp analysi softwar (gtype 4.1) copi number analysi tool (cnat). data export custom-design spreadsheet display loss heterozygos copi number chang ideogram format. data also analyz use affymetrix genotyp consol (version 2.1). overall, median 98.2% (range, 91.5%-99.6%) snps gave readabl calls. mutat analysi detect mutat high resolut melt (hrm) analysi perform described14 use rotor-gen 6000 (corbett life sciences, st neots, unit kingdom). direct sequenc polymeras chain reaction (pcr) product perform standard techniqu abi 3130 genet analyz (appli biosystems, warrington, unit kingdom) analyz use mutat surveyor (softgenetics, state college, pa). cbl mutat number relat atg (a = 1) ensembl cdna sequenc ensg00000110395. drop factor (relat intens drop wild-typ allel peak relat seen concurr run normal sample) 60% consid indic biallel mutat wherea drop factor less 60% consid monoallelic. primer sequenc cbl exon 8 cbl_i7f (5′-tgtggtttcactttaaaccctgga-3′) cbl_i8r (5′-gccaggccaccccttgtatc-3′) cbl exon 9 cbl_i8f (5′-ggcctggcttttgggttagg-3′) cbl_i9r (5′-cacaatggattttgccagtctcc-3′). cbl reverse-transcriptas pcr (rt-pcr) perform random hexamer–revers transcrib rna use primer cble7f: 5′-gaatcctgatctgactggcttatg-3′ cble10r 5′-gctgcggcagaaggtcaagt-3′. primer sequenc avail request. microsatellit analysi dna sampl amplifi seri fluoresc label primer pair flank high polymorph microsatellit marker chromosom 11q described.10 aupd score 4 consecut marker encompass cbl homozyg without chang allel copi number (p < .05 occur absenc aupd base publish rate heterozygosity). copi number 11q estim multiplex ligat probe amplif (mlpa) use marfan probeset 1 (p065; mrc holland, amsterdam, netherlands), kit contain four 11q control probe includ one 11q23.3. construct pmy-wtcbl pmy-cblr420q express wild-typ r420q cbl, respectively, along green fluoresc protein (gfp).15 cbl mutant construct deriv pmy-wtcbl use quikchang site-direct mutagenesi kit (stratagene, la jolla, ca). pal/flt3 pcmv–ha ubiquitin also describ previously.15 cell line il-3–depend murin myeloid cell 32dcl3 (32d) purchas deutsch sammlung von mikroorganismen und zellkulturen (braunschweig, germany) maintain 90% rpmi 1640 medium 10% fetal bovin serum (fbs) 10% wehi-3b condit medium (wehi). cell maintain humidifi incub 37°c 5% carbon dioxide. 32d cell stabli transduc electropor wt-flt3 pal vector previous described16 maintain 15 ng/ml blastocidin (invitrogen, paisley unit kingdom). platinum- (plat-e) retrovirus packag cell line17 transfect use calcium phosphat method 5 μg cbl construct dna: 106 32d/wtflt3 cell cocultiv plat- cell 48 hour volum 2 ml (50% rpmi, 50% dmem, 10% fbs, 5% wehi). gfp posit cell flow sort highest possibl puriti use bd facsaria cell sorter (becton dickinson, stanford, ca). insuffici cell obtain experi flow sorting, cell maintain cultur resort greater 95% purity. growth factor withdraw assay cell growth compar wt-flt3, vector-on transfect cell parent 32d line stabli transfect cells. cell (105/ml) grown 3 day triplic cbl mutant wt-cbl control 96-well plates. cultur analyz daili prolifer use aqueous one solut cell prolifer assay kit (mts assay; promega, southampton, unit kingdom). experi perform least 3 time independ result analyz use graphpad prism 4 softwar (graphpad software, san diego, ca). ubiquitin ligas activ ubiquitin ligas activ cbl mutant comparison wild-typ cbl determin transient transfect 107 32d/wtflt3 cell express wild-typ cbl mutant electropor 20 μg pcmv-ha ubiquitin. cell maintain cultur wehi 12 hour transfect washed, serum depriv overnight, expos flt3 ligand 10 minutes, lyse buffer described.18 lysat incub flt3-specif polyclon antibodi overnight 4°c. protein g agaros bead (100 μl) ad incub 4°c 4 hours. bead wash 4 time ice-cold radioimmunoprecipit assay (ripa) lysi buffer. supernat mix sodium dodecyl sulphat (sds) sampl load buffer immunoblot analys antibodi ha-ubiquitin (sc-805; santa cruz biotechnology, santa cruz, ca), cbl (2111c3a; abcam, cambridge, unit kingdom), flt3 (sc-479; cell signal technology, danvers, ma). result snp array analysi perform genome-wid snp analysi leukocyt dna extract 58 mpd patients: acml (n = 30), v617f jak2 negat mf (n = 18), jak2 mutat negat pv/idiopath erythrocytosi (n = 10). comparators, also analyz case cml transform blast crisi (n = 30, 20 myeloid 10 lymphoid) chronic lymphocyt leukemia (cll; n = 20). conserv defin like region aupd least 20 mb absent signific reduc heterozyg snp call (ie, < 5% snps call heterozygous) run telomer without chang copi number (figur 1a). larg region uncommon healthi individuals.19 strikingly, found aupd common acml 10 (33%) case affected. contrast, aupd seen singl case mf seen patient subgroups. total, 7 differ chromosom affected, abnorm 7q 11q seen recurr 10% acml cases. affect region rang size 29 mb complet copi chromosom 13 (tabl 1). figur 1 download figureopen new tabdownload powerpoint figur 1 singl nucleotid polymorph array result initi mutat analysis. (a) array analysi 2 control patient show copi number (cn) loss heterozygos (loh) outputs. x-axi cn plot show (copi number)−2 determin cnat, valu approach exceed −1 indic delet greater +1 indic amplifications. x-axi loh show log10 p valu (ie, 20 indic 10−20). 2 panel left polycythemia vera (pv) case homozyg v617f jak2 mutation. gross copi number chang (individu datapoint spread around zero line), larg block homozyg snp call 9p indic aupd. 2 panel right chronic myeloid leukemia (cml) blast crisi case show loh accompani 20q deletion. (b) case upn 5, larg block 11q aupd appar analysi granulocyt almost complet absent mononuclear cell (mncs) extract sample. (c) chromosom 1p aupd case upn 27 associ biallel g>t mpl mutat predict result w515l substitution. (d) whole chromosom 13 isodisomi case upn 28 associ homozyg flt3 itd. two control shown: acut myeloid leukemia (aml) patient previous known heterozyg flt3 itd healthi individual. view inlineview popup tabl 1 chromosom region case affect aupd associ aupd known acquir oncogen mutat although constitut dna formal confirm region homozygos acquired, 1 individu found mark reduct proport 11q aupd posit cell comparison mononuclear cell granulocytes, consist acquir abnorm (figur 1b). affect region harbor gene known relev hematolog malign therefor assess mutat status. sequenc mpl gene case upn 27 1p aupd reveal homozyg g>t chang (figur 1c) result previous report w515l substitution.9 case upn 28 whole chromosom 13 upd homozyg flt3 intern tandem duplic (itd; figur 1d). candid gene abnorm 17q 21q includ nf1 runx1, respectively; however, investigated. 11q aupd associ cbl mutat next, focus analysi 2 recurr region aupd 7q 11q. strong associ mpns aberr tyrosin kinas signaling, analyz gene encod tyrosin kinas associ signal components. minim affect region chromosom 7q contain 3 tyrosin kinases: met, epha1, ephb6. fulli sequenc code exon gene 3 case 7q aupd 2 normal control found abnormalities. similarly, found sequenc chang exon 11 17 braf, gene encod downstream compon ras signal mutat malign melanoma cancers.20 tyrosin kinas gene chromosom 11q, although sever gene encod signal transduct components, cbl stood known oncogen negat regul tyrosin kinas signaling.21 sequenc cbl three 11q aupd case reveal upn 2 upn 5 t>c chang nucleotid 1277 exon 8 predict l380p substitution. case upn 3 c>g missens chang exon 9 nucleotid 1387 predict p417a chang (figur 2). consist array results, mutat case upn 3 upn 5 predomin residu wild-typ allel weak visible. case upn 2 mutat level aupd less prominent, presum due greater background normal cells. figur 2 download figureopen new tabdownload powerpoint figur 2 cbl mutat 3 case 11q aupd. (a) genotyp consol output indic homozyg snp call green, copi number state estim hidden markov model blue, smooth copi number log(2) ratio valu red. (b) ideogram show lack larg copi number chang block homozygos 11q. abbrevi figur 1. (c) sequenc chang indic ↓ case compar normal controls. upn 2 upn 5 c.1139t>c: l380p mutat wherea upn 3 c.1249c>g: p417a. preval natur cbl mutat determin preval cbl mutations, sequenc exon 8 9 (that encod amino acid 366 409 410 477, respectively) addit 574 mpn cases. total 27 sequenc variant identifi 26 patients, 3 mf, 10 chronic myelomonocyt leukemia (cmml), 12 acml 1 hypereosinophil syndrome/chron eosinophil leukemia (hes/cel; tabl 2 3). ensur miss mutat elsewher gene analyz code exon 70 cbl mutat negat acml unclassified, cml-like mpn case high resolut melt (hrm) analysi fail detect sequenc chang apart known polymorphisms. similarly, mutat cblb exon 9 10 cblc exon 7 8 (the exon correspond cbl exon 8 9) identified. activ bcr-abl known increas progress cml chronic phase blast crisis22 specul abrog cbl activ might least partial respons increase. hrm analysi cbl exon 8 9 blast crisi case (n = 31), however, fail reveal mutations. view inlineview popup tabl 2 case analyz cbl mutat view inlineview popup tabl 3 list cbl sequenc variant 27 cbl variants, 21 (78%) missens substitut affect 12 amino acid (15 differ substitutions), 5 (19%) candid splice abnormalities, 1 (3%) produc stop codon (tabl 3). chang novel, although 4 case r420q previous identifi singl case aml.15 apart n454d, residu affect missens mutat complet conserv cbl orthologu well 2 human cbl famili member (figur 3). mutat stop codon found patient (upn 9) also y371h variant; pcr across affect region sequenc indic 2 chang differ alleles. figur 3 download figureopen new tabdownload powerpoint figur 3 locat missens mutations. (top panel) schemat represent cbl protein show tyrosin kinas bind (tkb), linker, ring, proline-rich (p-rich), ubiquitin-associated/leucin zipper (uba/lz) domains. (bottom panel) clustalw align entir linker ring domain plus part distal sequence. ring domain shade gray defin c h residu shade pale blue. residu affect missens mutat found studi indic ▼. cbl mutat acquir rare seen conjunct known mutat 2 case (upn 5 upn 14) abl compar mutat status leukocyt cell buccal epithelia cells. case l380p mutat present leukocyt therefor acquir (figur 4a). third case (upn 15) origin present v617f jak2 negat et 1989 progress mf 2004. analysi dna extract sequenti bone marrow slide indic r420q mutat absent et phase acquir transform (figur 4b). 3 cbl-posit mf case test negat mpl 515 mutat cbl mutat posit case negat cytogenet indic tyrosin kinas fusions, flt3 itd, activ nras mutat v617f jak2, except 1 case (upn 14) mf test posit l380p cbl v617f jak2. analysi retrospect bone marrow slide case indic presenc v617f jak2 low level initi absenc l380p cbl. cbl mutat detect 7 year later complet displac v617f 3 years, correspond signific rise peripher leukocyt count (figur 4c). case (upn 21) present system mastocytosi evolv cbl mutation-posit cmml retrospect sampl unavailable. figur 4 download figureopen new tabdownload powerpoint figur 4 acquisit cbl mutations. (a) comparison granulocyt (gran) buccal epitheli cell (bucc) cell (t) demonstr l380p mutat case upn 5 14 acquired. (b) sequenti leukocyt platelet count case, present 1989 essenti thrombocythemia (et) progress myelofibrosi (mf) 2004. homozyg cbl r420q, indic *, detect transform undetect previous specimens. (c) clinic cours case upn 14, present mf 1998 experienc elev leukocyt count 2005, concomit appear cbl l380p mutation. jak2 v617f mutation, present low level sinc diagnosis, still detect cbl l380p first appear undetect 2008 sample, cbl mutat clone predomin (* sequenc trace). (d) rt-pcr analysis. case control show expect product cbl exon 7-10. case upn 18 upn 20 show smaller band result complet delet exon 8. splice abnorm rna avail 3 5 case potenti splice mutations. patient upn 18 upn 20 exhibit doubl band rt-pcr, sequenc show one normal product smaller band result complet delet exon 8 case (figur 4d), similar describ cell line molm-13.23 patient upn 19 show singl band rt-pcr entir normal sequenc analysi indic exon 8+4 c>t chang alter splicing. seem likely, therefore, variant identifi case upn 6 also consequence. pathogen intron variant seen case upn 13 remain unknown. associ cbl mutat upd examin associ cbl mutat aupd detail perform microsatellit analysi mutat case use 9 polymorph marker span chromosom 11q13-qter. 26 cases, 11 display pattern indic signific tract homozygosity, includ 3 11q aupd detect snp arrays. case upn 9 2 mutat heterozyg markers. 11 case biallel cbl mutat judg sequenc analysis, 5 show complet homozygos microsatellit loci test 6 least 4 consecut homozyg call encompass locat cbl gene 11q23.3 (figur 5). perform multiplex ligat probe amplif (mlpa) analysi determin whether observ homozygos consequ delet copi number chang detect (data shown) therefor like homozygos aros aupd. number mutat allel estim sequenc concord microsatellit analysi 20 case (figur 5). discordant, upn 6 upn 25 signific tract 11q homozygos monoallel cbl mutat wherea upn 10 upn 16 show 11q homozygos clear biallel cbl mutations. reason discrep case unclear, possibl aupd seen upn 6 upn 25 target anoth gene 11q acquisit cbl mutation. homozygos cbl mutat absenc 11q aupd upn 10 upn 16 might explain subcytogenet delet 1 allele. figur 5 download figureopen new tabdownload powerpoint figur 5 microsatellit analysi cbl mutat posit cases. number cbl mutat allel (1 monoallelic; 2 biallelic) estim sequenc analysi describ “experiment procedures.” microsatellit score homozyg (embed image) heterozyg (□) case posit chromosom 11q indicated. correl cbl mutat clinic featur compar clinic hematolog featur patient without cbl mutations, restrict analysi case acml, mf cmml subgroup cbl mutat common found. patient cbl mutat shorter overal surviv progression-fre surviv compar mutat negat case (overal survival: 33 month vs 39 months; progression-fre survival: 22 month vs 32 months) differ signific (figur 6). similar signific differ gender distribution, age standard hematolog paramet mutat posit mutat negat case differ emerg individu diseas entiti considered. figur 6 download figureopen new tabdownload powerpoint figur 6 clinic signific cbl mutations. overal surviv (a) progression-fre surviv (b) atyp chronic myeloid leukemia (acml), chronic myelomonocyt leukemia (cmml), mf case (n = 19) without (n = 87) cbl mutations. differ mutat posit negat case signific determin kaplan-mei analysis. transform activ cbl mutant determin whether select cbl variant oncogen activ test whether could transform interleukin-3 (il-3)–depend cell line 32d growth factor independ conjunct overexpress wild-typ flt3, describ previous r420q.15 found s376f, h398y, p417a, r420q alon confer degre growth factor independ 32d cells, effect consider enhanc 32ds overexpress wild-typ flt3. contrast, wild-typ cbl confer growth advantag either without flt3 overexpression. n454d chang transforming, indic probabl rare polymorph pathogenet unimport passeng mutat (figur 7). reproduc differ surviv differ mutant seen, illustr figur 8a. figur 7 download figureopen new tabdownload powerpoint figur 7 transform activ cbl mutants. 32d cell 32ds overexpress wild-typ flt3 transfect wild-typ mutant cbl construct assay il-3 independ growth 3 days. result shown mean least 3 independ experiments, perform triplicate. y-axi show prolifer arbitrari unit determin mts assay (promega) x-axi time days. figur 8 download figureopen new tabdownload powerpoint figur 8 surviv abrog e3 ubiquitin ligas activity. (a) relat survival/prolifer 32d cell express wild-typ mutant cbl construct 48 hour growth factor withdraw determin mts assay. (b) 32d cell express wild-typ flt3 cbl construct indic transfect ha-tag ubiquitin stimul flt3 ligand. lysis, flt3 immunoprecipitated, blotted, probe anti-ha. total blot flt3 cbl also shown. abrog e3 ubiquitin ligas activ shown flt3 physic associ cbl that, upon ligand stimulation, flt3 rapid ubiquitinyl wild-typ r420q cbl.15 found transform activ correl direct ubiquitin ligas activ cbl variants, assay abil transfer ha-tag ubiquitin flt3 stimul flt3 ligand. s376f, h398y, p417a r420q mutant show loss ubiquitin ligas activity, wherea n454d compar wild-typ cbl (figur 8b). discuss initi aim studi identifi larg region aupd therefor undertook relat low resolut genom scan use 50k snp arrays. constitut dna avail cases, abl unambigu determin whether extend block homozygos observ consequ aupd, constitut upd autozygos due consaguinity, howev use conserv definit candid aupd region (at least 20 mb homozyg snps call run telomere) therefor expect would acquired. found aupd relat common acml, uncommon mpns negat known mutations, plus also cml blast crisi cll. six distinct region aupd identifi acml, indic substanti genet heterogen genesi disorder. however, identifi 2 recurr region aupd 7q 11q seen 10% case indic presenc common molecular abnormalities. mutat screen focus primarili tyrosin kinas associ signal transduct compon known associ deregul tyrosin kinas signal mpns.3 although fail thus far identifi abnorm chromosom 7q, found missens cbl mutat three 11q aupd cases. screen mpns reveal total 27 cbl variant 26 patient diagnos acml (n = 12; 8%), mf (n = 3, 6%), cmml (n = 10, 13%), hes/cel (n = 1, 1%); is, morpholog clinic relat diseas general exhibit poor prognosis. unabl discern, however, specif clinic prognost featur specif associ cbl mutat cases. casita b-lineag lymphoma (cbl) well character protein play posit negat regulatori role tyrosin kinas signaling. posit role, cbl bind activ receptor tyrosin kinas via n-termin tyrosin kinas bind (tkb) domain serv adaptor recruit downstream signal transduct compon shp2 p13k. howev ring domain cbl e3 ligas activ ubiquitinyl activ receptor tyrosin kinas lysin residues, signal trigger intern receptor/ligand complex subsequ recycl degradation.21,24,25 cbl origin identifi character v-cbl, transform compon cas ns-1 retrovirus, thus associ neoplasia well established26; however, recent cbl mutat first identifi human malignancy, specif occasion case aml.15,23,27 found cbl mutat much common mpns, previous report 11q aupd mds28 suggest cbl mutat also prove common disease. indeed, 7 12 mds case aupd 11q recent shown harbor cbl mutations.29 2 human cbl famili members, cblb cblc, identifi aupd region contain gene detect mutat linker/r domain cblb. identifi total 15 differ cbl missens mutat affect 12 residu (tabl 2; figur 3). mutat residu (eg, y371, c381, h398 w408) analyz previous studi conclud loss e3 ubiquitin ligas activ concomit impair egfr intern ring finger mutat insuffici oncogenicity, assay nih3t3 cells. howev mutat key residu within α-helix linker region abolish ubiquitin ligas activ transforming.30 although precis amino acid substitut identifi differ studied, found mutat ring finger linker region confer autonom growth 32d/wt-flt3 cells, consist causal relationship mpn phenotype. fact one mutat (n454d) transform emphas import function analysi distinguish driver mutat irrelev passeng infrequ polymorphisms.31 notably, mutat weak conserv species, contrast missens mutat affect high conserv residu therefor like function significant. enhanc autonom growth presenc cbl mutat overexpress wild-typ flt3 may simpli reflect pauciti receptor tyrosin kinas gene express 32d cell or, alternatively, may indic mutant weak transform requir cooper event give rise clinic manifest disease. consist latter hypothesis, identifi 2 case cbl mutat acquir progress preexist mpn (figur 4). case ident cooper chang unknown: although one present (relat low level) v617f jak2 mutation, disappear progress cbl l380p posit disease, indic 2 mutat must arisen independ differ clones. reminisc observ leukem blast approxim half v617f posit mpns evolv aml negat jak2 mutation.32,33 remain established, however, cbl mutat usual secondari event whether 2 case identifi exceptional. evid requir addit cooper genet event come publish mous studi neither complet cbl knockout heterozyg knockin ring finger inactiv mutant c379a (mous c379 equival human c381) result evid mpn malignancy.34,35 however, closer analysi reveal subtl hemopoiet perturb clear relat pathogenesi mpns. specifically, hemopoiet stem cell (hscs) anim increas number, hyperrespons thrombopoietin potent wild-typ hscs repopul hemopoiet system. effect associ increas stat5 accumul phosphorylation.34,35 hyperrespons growth factor stem cell involv 2 cardin featur mpns. furthermore, associ stat5 activ mpns well documented.36,37 possibl overt hematolog diseas might induc homozyg knockin mutant, find suggest cbl mutat may sole respons full mpn phenotype. natur cooper abnorm remain larg obscure. result show overexpress tyrosin kinas cooper cbl mutant promot transformation, howev fail identifi kinas consist overexpress mutat posit case tyrosin kinas express profil (data shown). one cbl mutat posit case, however, also test posit 7q upd snp array, suggest 2 abnorm may complement other. cbl mutat result skip exon 8 also identifi murin model nup98-hoxd13 progress mds aml,38 corrobor theori acut leukemia aris complementari mutations, one inhibit differentiation, second (in case cbl) enhanc prolifer inhibit apoptosis. fact mani cbl mutat associ aupd strong suggest clone homozyg mutat select advantag heterozygous. contrast prevail view transform cbl ring finger linker region mutant act domin negat fashion. although conceiv another, unknown locus 11q target aupd, find 1 case y371h mutat stop codon opposit allel strong suggest homozyg cbl mutat inde confer direct select advantage. screen entir gene mutations, possibl case heterozyg mutat may also function homozyg due prematur stop codon allele. alternatively, heterozygos case may appar due variabl proport background normal cell part malign clone. although nontransform n454d mutant heterozygous, 2 case heterozyg r420q observ thus absenc homozygos cannot use infer presenc irrelevant, nontransform sequenc variant. summary, found oncogen cbl mutat acquir subset hematolog related, poor prognosi mpns. find strengthen notion mpns primarili “tyrosin kinopathies,” is, diseas caus aberr activ prolifer surviv pathway consequ mutat either direct indirect promot excess tyrosin kinas signaling. view fact tyrosin kinas good drug targets, possibl cbl-mutat case might amen therapeut inhibit clear attractive.\n"
     ]
    }
   ],
   "source": [
    "print stem_text[3]  #verify the text"
   ]
  },
  {
   "cell_type": "code",
   "execution_count": 35,
   "metadata": {
    "collapsed": true
   },
   "outputs": [],
   "source": [
    "#now tf idf "
   ]
  },
  {
   "cell_type": "code",
   "execution_count": 36,
   "metadata": {
    "collapsed": true
   },
   "outputs": [],
   "source": [
    "from sklearn.feature_extraction.text import TfidfVectorizer"
   ]
  },
  {
   "cell_type": "code",
   "execution_count": 37,
   "metadata": {
    "collapsed": true
   },
   "outputs": [],
   "source": [
    "vectorizer = TfidfVectorizer(sublinear_tf=True) #already removed stop words"
   ]
  },
  {
   "cell_type": "code",
   "execution_count": 38,
   "metadata": {
    "collapsed": true
   },
   "outputs": [],
   "source": [
    " tfIdf_matrix=vectorizer.fit_transform(stem_text)"
   ]
  },
  {
   "cell_type": "code",
   "execution_count": 39,
   "metadata": {},
   "outputs": [
    {
     "data": {
      "text/plain": [
       "scipy.sparse.csr.csr_matrix"
      ]
     },
     "execution_count": 39,
     "metadata": {},
     "output_type": "execute_result"
    }
   ],
   "source": [
    "type(tfIdf_matrix)"
   ]
  },
  {
   "cell_type": "code",
   "execution_count": 40,
   "metadata": {},
   "outputs": [
    {
     "data": {
      "text/plain": [
       "4853308"
      ]
     },
     "execution_count": 40,
     "metadata": {},
     "output_type": "execute_result"
    }
   ],
   "source": [
    "tfIdf_matrix.shape\n",
    "tfIdf_matrix.nnz"
   ]
  },
  {
   "cell_type": "code",
   "execution_count": 41,
   "metadata": {
    "collapsed": true
   },
   "outputs": [],
   "source": [
    "feature_names = vectorizer.get_feature_names() "
   ]
  },
  {
   "cell_type": "code",
   "execution_count": 42,
   "metadata": {},
   "outputs": [
    {
     "name": "stdout",
     "output_type": "stream",
     "text": [
      "153750\n"
     ]
    }
   ],
   "source": [
    "print len(feature_names)"
   ]
  },
  {
   "cell_type": "code",
   "execution_count": 43,
   "metadata": {},
   "outputs": [
    {
     "name": "stdout",
     "output_type": "stream",
     "text": [
      "  (0, 49391)\t0.012549889267\n",
      "  (0, 83442)\t0.026119957285\n",
      "  (0, 121649)\t0.0168593595944\n",
      "  (0, 39311)\t0.0244520361358\n",
      "  (0, 104748)\t0.0216886473751\n",
      "  (0, 21686)\t0.0255872496093\n",
      "  (0, 76454)\t0.0225307167414\n",
      "  (0, 114527)\t0.0170645268686\n",
      "  (0, 150432)\t0.0103428681211\n",
      "  (0, 129799)\t0.0240065419925\n",
      "  (0, 78110)\t0.0246209557695\n",
      "  (0, 57243)\t0.00833461804578\n",
      "  (0, 104622)\t0.0158768678642\n",
      "  (0, 33770)\t0.0175728568428\n",
      "  (0, 36450)\t0.0316922712921\n",
      "  (0, 39151)\t0.0207118387978\n",
      "  (0, 95800)\t0.0124885209552\n",
      "  (0, 21793)\t0.0188527495551\n",
      "  (0, 65647)\t0.00900931496208\n",
      "  (0, 62376)\t0.0213991039347\n",
      "  (0, 121874)\t0.0154325462535\n",
      "  (0, 49191)\t0.0186216183865\n",
      "  (0, 115118)\t0.0211832562615\n",
      "  (0, 149907)\t0.0118349379664\n",
      "  (0, 97597)\t0.0362787611268\n",
      "  :\t:\n",
      "  (0, 10905)\t0.00913549467411\n",
      "  (0, 55774)\t0.0240251622089\n",
      "  (0, 73337)\t0.0133943095963\n",
      "  (0, 116808)\t0.00974469471631\n",
      "  (0, 128893)\t0.0108306692416\n",
      "  (0, 145500)\t0.0102715842563\n",
      "  (0, 134365)\t0.0146739877429\n",
      "  (0, 66011)\t0.0117897647627\n",
      "  (0, 54736)\t0.0130174493364\n",
      "  (0, 104682)\t0.049045114273\n",
      "  (0, 108496)\t0.0352687478086\n",
      "  (0, 108499)\t0.0320607252887\n",
      "  (0, 108507)\t0.0371566890424\n",
      "  (0, 114220)\t0.0144923092749\n",
      "  (0, 139551)\t0.00904135565487\n",
      "  (0, 54718)\t0.0142159746018\n",
      "  (0, 99924)\t0.00949521480774\n",
      "  (0, 113285)\t0.0226059318183\n",
      "  (0, 44070)\t0.0178901166144\n",
      "  (0, 11642)\t0.00928240467352\n",
      "  (0, 43039)\t0.0136485147718\n",
      "  (0, 57542)\t0.00872521904909\n",
      "  (0, 88597)\t0.0133943095963\n",
      "  (0, 135440)\t0.0199732866275\n",
      "  (0, 143410)\t0.0142689578135\n"
     ]
    }
   ],
   "source": [
    "#feature_names[153700:153750]\n",
    "print tfIdf_matrix[1]"
   ]
  },
  {
   "cell_type": "code",
   "execution_count": 44,
   "metadata": {
    "collapsed": true
   },
   "outputs": [],
   "source": [
    "from sklearn.feature_selection import SelectFromModel"
   ]
  },
  {
   "cell_type": "code",
   "execution_count": 45,
   "metadata": {
    "collapsed": true
   },
   "outputs": [],
   "source": [
    "from sklearn.feature_selection import SelectKBest"
   ]
  },
  {
   "cell_type": "code",
   "execution_count": 46,
   "metadata": {
    "collapsed": true
   },
   "outputs": [],
   "source": [
    "from sklearn.feature_selection import chi2   #feature by chi-Square"
   ]
  },
  {
   "cell_type": "code",
   "execution_count": 47,
   "metadata": {
    "collapsed": true
   },
   "outputs": [],
   "source": [
    "chi2_model = SelectKBest(chi2,k=5000)"
   ]
  },
  {
   "cell_type": "code",
   "execution_count": 48,
   "metadata": {
    "collapsed": true
   },
   "outputs": [],
   "source": [
    " ch_dtm = chi2_model.fit_transform(tfIdf_matrix,train_df[\"Class\"])"
   ]
  },
  {
   "cell_type": "code",
   "execution_count": 49,
   "metadata": {
    "collapsed": true
   },
   "outputs": [],
   "source": [
    "#feature by Information Gain"
   ]
  },
  {
   "cell_type": "code",
   "execution_count": 50,
   "metadata": {
    "collapsed": true
   },
   "outputs": [],
   "source": [
    "from sklearn.naive_bayes import MultinomialNB\n",
    "from sklearn.ensemble import RandomForestClassifier\n",
    "from sklearn.svm import LinearSVC"
   ]
  },
  {
   "cell_type": "code",
   "execution_count": 51,
   "metadata": {
    "collapsed": true
   },
   "outputs": [],
   "source": [
    "from sklearn import tree\n",
    "from sklearn.decomposition import TruncatedSVD"
   ]
  },
  {
   "cell_type": "code",
   "execution_count": 52,
   "metadata": {
    "collapsed": true
   },
   "outputs": [],
   "source": [
    "from sklearn.preprocessing import Normalizer\n",
    "from sklearn.pipeline import make_pipeline"
   ]
  },
  {
   "cell_type": "code",
   "execution_count": 53,
   "metadata": {},
   "outputs": [
    {
     "name": "stderr",
     "output_type": "stream",
     "text": [
      "C:\\Users\\Ravi\\Anaconda2\\lib\\site-packages\\sklearn\\cross_validation.py:44: DeprecationWarning: This module was deprecated in version 0.18 in favor of the model_selection module into which all the refactored classes and functions are moved. Also note that the interface of the new CV iterators are different from that of this module. This module will be removed in 0.20.\n",
      "  \"This module will be removed in 0.20.\", DeprecationWarning)\n"
     ]
    }
   ],
   "source": [
    "from sklearn.cross_validation import StratifiedKFold\n",
    "from sklearn.metrics import precision_recall_fscore_support"
   ]
  },
  {
   "cell_type": "code",
   "execution_count": 54,
   "metadata": {
    "collapsed": true
   },
   "outputs": [],
   "source": [
    "  treeCL = tree.DecisionTreeClassifier(criterion=\"entropy\")"
   ]
  },
  {
   "cell_type": "code",
   "execution_count": 55,
   "metadata": {
    "collapsed": true
   },
   "outputs": [],
   "source": [
    " treeCL = treeCL.fit(tfIdf_matrix,train_df[\"Class\"])"
   ]
  },
  {
   "cell_type": "code",
   "execution_count": 56,
   "metadata": {
    "collapsed": true
   },
   "outputs": [],
   "source": [
    " transformed_features = SelectFromModel(treeCL,prefit=True).transform(tfIdf_matrix)"
   ]
  },
  {
   "cell_type": "code",
   "execution_count": 57,
   "metadata": {
    "collapsed": true
   },
   "outputs": [],
   "source": [
    "#Fetaure reduction by LSA"
   ]
  },
  {
   "cell_type": "code",
   "execution_count": 58,
   "metadata": {
    "collapsed": true
   },
   "outputs": [],
   "source": [
    "  svd = TruncatedSVD(n_components=100)"
   ]
  },
  {
   "cell_type": "code",
   "execution_count": 59,
   "metadata": {
    "collapsed": true
   },
   "outputs": [],
   "source": [
    "normalizer =  Normalizer(copy=False)"
   ]
  },
  {
   "cell_type": "code",
   "execution_count": 60,
   "metadata": {
    "collapsed": true
   },
   "outputs": [],
   "source": [
    "lsa = make_pipeline(svd, normalizer)"
   ]
  },
  {
   "cell_type": "code",
   "execution_count": 61,
   "metadata": {
    "collapsed": true
   },
   "outputs": [],
   "source": [
    " dtm_lsa = lsa.fit_transform(tfIdf_matrix)"
   ]
  },
  {
   "cell_type": "code",
   "execution_count": 62,
   "metadata": {
    "collapsed": true
   },
   "outputs": [],
   "source": [
    "#cross validate "
   ]
  },
  {
   "cell_type": "code",
   "execution_count": null,
   "metadata": {
    "collapsed": true
   },
   "outputs": [],
   "source": []
  },
  {
   "cell_type": "code",
   "execution_count": null,
   "metadata": {
    "collapsed": true
   },
   "outputs": [],
   "source": []
  },
  {
   "cell_type": "code",
   "execution_count": null,
   "metadata": {
    "collapsed": true
   },
   "outputs": [],
   "source": []
  },
  {
   "cell_type": "code",
   "execution_count": null,
   "metadata": {
    "collapsed": true
   },
   "outputs": [],
   "source": []
  },
  {
   "cell_type": "code",
   "execution_count": 63,
   "metadata": {
    "collapsed": true
   },
   "outputs": [],
   "source": [
    "def crossValidate(document_term_matrix,labels,classifier=\"SVM\",nfold=10):\n",
    "    clf = None\n",
    "    precision = []\n",
    "    recall = []\n",
    "    fscore = []\n",
    "    \n",
    "    if classifier == \"RF\":\n",
    "        clf = RandomForestClassifier()\n",
    "    elif classifier == \"NB\":\n",
    "        clf = MultinomialNB()\n",
    "    elif classifier == \"SVM\":\n",
    "        clf = LinearSVC()\n",
    "    \n",
    "    skf = StratifiedKFold(labels, n_folds=nfold)\n",
    "\n",
    "    for train_index, test_index in skf:\n",
    "        X_train, X_test = document_term_matrix[train_index], document_term_matrix[test_index]\n",
    "        y_train, y_test = labels[train_index], labels[test_index]\n",
    "        model = clf.fit(X_train, y_train)\n",
    "        y_pred = model.predict(X_test)\n",
    "        p,r,f,s = precision_recall_fscore_support(y_test, y_pred, average='weighted')\n",
    "        precision.append(p)\n",
    "        recall.append(r)\n",
    "        fscore.append(f)\n",
    "        \n",
    "    return round(np.mean(precision),3),round(np.mean(recall),3),round(np.mean(fscore),3)"
   ]
  },
  {
   "cell_type": "code",
   "execution_count": 64,
   "metadata": {},
   "outputs": [
    {
     "name": "stderr",
     "output_type": "stream",
     "text": [
      "C:\\Users\\Ravi\\Anaconda2\\lib\\site-packages\\sklearn\\metrics\\classification.py:1113: UndefinedMetricWarning: Precision and F-score are ill-defined and being set to 0.0 in labels with no predicted samples.\n",
      "  'precision', 'predicted', average, warn_for)\n"
     ]
    }
   ],
   "source": [
    "precision, recall, fscore = crossValidate(ch_dtm,train_df[\"Class\"],\"SVM\",10)"
   ]
  },
  {
   "cell_type": "code",
   "execution_count": 65,
   "metadata": {},
   "outputs": [
    {
     "name": "stdout",
     "output_type": "stream",
     "text": [
      "0.458 0.478 0.435\n"
     ]
    }
   ],
   "source": [
    "print precision, recall, fscore"
   ]
  },
  {
   "cell_type": "code",
   "execution_count": 66,
   "metadata": {
    "collapsed": true
   },
   "outputs": [],
   "source": [
    "precision_nb, recall_nb, fscore_nb = crossValidate(ch_dtm,train_df[\"Class\"],\"NB\",10)"
   ]
  },
  {
   "cell_type": "code",
   "execution_count": 67,
   "metadata": {},
   "outputs": [
    {
     "name": "stdout",
     "output_type": "stream",
     "text": [
      "0.335 0.424 0.323\n"
     ]
    }
   ],
   "source": [
    "print precision_nb, recall_nb, fscore_nb"
   ]
  },
  {
   "cell_type": "code",
   "execution_count": 68,
   "metadata": {
    "collapsed": true
   },
   "outputs": [],
   "source": [
    "precision_rf, recall_rf, fscore_rf = crossValidate(ch_dtm,train_df[\"Class\"],\"RF\",10)"
   ]
  },
  {
   "cell_type": "code",
   "execution_count": 69,
   "metadata": {},
   "outputs": [
    {
     "name": "stdout",
     "output_type": "stream",
     "text": [
      "0.44 0.453 0.433\n"
     ]
    }
   ],
   "source": [
    "print precision_rf, recall_rf, fscore_rf"
   ]
  },
  {
   "cell_type": "code",
   "execution_count": 74,
   "metadata": {
    "collapsed": true
   },
   "outputs": [],
   "source": [
    "precision_tr_svm, recall_tr_svm, fscore_tr_svm = crossValidate(dtm_lsa,train_df[\"Class\"],\"RF\",10)"
   ]
  },
  {
   "cell_type": "code",
   "execution_count": 75,
   "metadata": {},
   "outputs": [
    {
     "name": "stdout",
     "output_type": "stream",
     "text": [
      "0.412 0.412 0.401\n"
     ]
    }
   ],
   "source": [
    "print precision_tr_svm, recall_tr_svm, fscore_tr_svm"
   ]
  },
  {
   "cell_type": "code",
   "execution_count": null,
   "metadata": {
    "collapsed": true
   },
   "outputs": [],
   "source": []
  }
 ],
 "metadata": {
  "kernelspec": {
   "display_name": "Python 2",
   "language": "python",
   "name": "python2"
  },
  "language_info": {
   "codemirror_mode": {
    "name": "ipython",
    "version": 2
   },
   "file_extension": ".py",
   "mimetype": "text/x-python",
   "name": "python",
   "nbconvert_exporter": "python",
   "pygments_lexer": "ipython2",
   "version": "2.7.13"
  }
 },
 "nbformat": 4,
 "nbformat_minor": 2
}
